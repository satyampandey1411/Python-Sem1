{
 "cells": [
  {
   "cell_type": "markdown",
   "metadata": {},
   "source": [
    "**Question2:**\n",
    "\n",
    "Given a list of numbers, find out the median and mode.\n",
    "\n",
    "**Logic:**\n",
    "\n",
    "We will first of all sort the list in ascending order, for it we will first create a function named list_sort_ascending and then we will create another function named median_mode in which we will first calculate the length of the list and if the length of the list is even then we will take the value of half the length of the list - 1 and half the length of the list and the average of them will be the median and if the length is odd then middle element of the list will be the median.Then we will create a dictionary named frequency_dict and we will appned the number as key and its frequency as value. Then we will check the maximum value in the dict_frequency and the key corresponding to maximum value will be the mode. We will return median and mode.\n",
    "\n",
    "**Inputs and Outputs:**\n",
    "    Input: [1,2,3,3,2,1,2,4]\n",
    "    Output: 2.0, [2]\n",
    "    Input: [1,2,3,4,2,3,3,2]\n",
    "    Output: 2.5, [2, 3]"
   ]
  },
  {
   "cell_type": "code",
   "execution_count": 14,
   "metadata": {},
   "outputs": [],
   "source": [
    "#Making a list_sorting in ascending order function\n",
    "def list_sort_ascending(listin): #definded a function named list_sort_ascending \n",
    "    if isinstance(listin,list): # checking if the input given in list_sort_ascending is list\n",
    "        length_listin=0 #assigned a variable named length_listin whose value is initialised to 0\n",
    "        for number in listin: #ittrating a for loop in listin\n",
    "            length_listin+=1 #each time when for loop ittrates length_listin get added by 1\n",
    "        for i in range(length_listin): #ittrating a for loop in the range of length_listin\n",
    "            for j in range(i+1, length_listin): #ittrating a for loop in the range of i+1 to length_listin\n",
    "                if listin[i] > listin[j]: #checking if listin ith element is greater than jth element\n",
    "                    listin[i], listin[j] = listin[j], listin[i] #swaping the element i and j in the listin\n",
    "        return listin \n",
    "    else:\n",
    "        return None"
   ]
  },
  {
   "cell_type": "code",
   "execution_count": 12,
   "metadata": {},
   "outputs": [],
   "source": [
    "#Finding median and mode\n",
    "def median_mode(listin): #defined a function named median_mode\n",
    "    if isinstance(listin,list): #checking if input given in median_mode is list\n",
    "        list_sort_ascending(listin) #sorting the listin using above defined sorting function named list_sort_ascending\n",
    "        length = 0 #assigned a variable named length whose value is initialised to 0\n",
    "        for lengt in listin: #ittrating a for loop in listin \n",
    "            length += 1 #length get added by 1 each time when for loop is ittrted\n",
    "        if length % 2 == 0: #checking if remainder is 0 when length is divided by 2\n",
    "            median = (listin[length // 2 - 1] + listin[length // 2]) / 2 #median is equal to the average of the value \n",
    "            #of half the length and half minus 1 of the length\n",
    "        else:\n",
    "            median = listin[length // 2] #median is equal to value of the element at the half of the listin\n",
    "        frequency_dict = {} #created an empty dictionary named frequency_dict\n",
    "        max_frequency = 0 #assigned a variable named max_frequency whose value is initialised to 0\n",
    "        modes = [] #created an empty list named modes\n",
    "\n",
    "        for num in listin: #ittrating for loop in listin\n",
    "            if num in frequency_dict: #checking if num present in frequency_dict\n",
    "                frequency_dict[num] += 1 #increasing the value of the num by 1, num is ittrator here \n",
    "            else:\n",
    "                frequency_dict[num] = 1 #adding the num and saving its value as 1\n",
    "            if frequency_dict[num] > max_frequency: #checking if  the value offrequency_dict num is \n",
    "                #greater than max_frequency\n",
    "                max_frequency = frequency_dict[num] #assigning the value of num as in max_frequency\n",
    "                modes = [num] #modes is equal to the value of num\n",
    "            elif frequency_dict[num] == max_frequency and num not in modes: \n",
    "                modes.append(num) #appending num in modes\n",
    "        return median, modes #returning median and modes\n",
    "    else:\n",
    "        return None"
   ]
  }
 ],
 "metadata": {
  "kernelspec": {
   "display_name": "Python 3",
   "language": "python",
   "name": "python3"
  },
  "language_info": {
   "codemirror_mode": {
    "name": "ipython",
    "version": 3
   },
   "file_extension": ".py",
   "mimetype": "text/x-python",
   "name": "python",
   "nbconvert_exporter": "python",
   "pygments_lexer": "ipython3",
   "version": "3.11.6"
  }
 },
 "nbformat": 4,
 "nbformat_minor": 2
}
