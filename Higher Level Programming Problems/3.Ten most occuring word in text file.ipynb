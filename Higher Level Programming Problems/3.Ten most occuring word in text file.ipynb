{
 "cells": [
  {
   "cell_type": "markdown",
   "metadata": {},
   "source": [
    "**Question1:**\n",
    "\n",
    "Read in a text file and find the 10 most frequently occurring words in the file.\n",
    "\n",
    "**Logic:**\n",
    "We will first defined a function to sort the dictionary in descending order. We will read the text file and then we will create a dictionary from the text file in which we will take the words as key and its frequency as value and then we will sort this dictionary using our difined sorting function and then we will print the first 10 keys of the sorted dictionary.\n",
    "\n"
   ]
  },
  {
   "cell_type": "code",
   "execution_count": null,
   "metadata": {},
   "outputs": [],
   "source": [
    "def sort_marks_desc(marks_dict): #defined a function named sort_marks_desc\n",
    "    # Create a list of tuples with (key, value) pairs\n",
    "    list_marks_desc = list(marks_dict.items())\n",
    "    # Custom sorting algorithm without using sort function\n",
    "    for i in range(len(list_marks_desc)): #ittrating for loop in the range len of list_marks_desc\n",
    "        for j in range(i + 1, len(list_marks_desc)): #ittrating a for loop in the \n",
    "            #range(i+1 to len of list_marks_desc)\n",
    "            if list_marks_desc[i][1] < list_marks_desc[j][1] or (\n",
    "                list_marks_desc[i][1] == list_marks_desc[j][1] and list_marks_desc[i][0] < list_marks_desc[j][0]):\n",
    "                list_marks_desc[i], list_marks_desc[j] = list_marks_desc[j], list_marks_desc[i]\n",
    "    dict_desc = {} #created an empty dictionary named dict_desc\n",
    "    for key, value in list_marks_desc: #ittrating a for loop in list_marks_desc\n",
    "        dict_desc[key] = value \n",
    "    return dict_desc"
   ]
  },
  {
   "cell_type": "code",
   "execution_count": null,
   "metadata": {},
   "outputs": [],
   "source": [
    "dict_frequency = {}  # Create an empty dictionary named dict_frequency\n",
    "with open(\"Text_file.txt\", 'r+') as file:  # Open the text file named Text_file in read mode\n",
    "    for line in file:  # Iterate through the file line by line\n",
    "        words = line.split()  # Split the line into a list of words\n",
    "\n",
    "        for word in words:\n",
    "            word_lower = word.lower()  # Convert the word to lowercase\n",
    "\n",
    "            # Checking if the word is not empty\n",
    "            if word_lower:\n",
    "                # Checking if the word is already in the dictionary, then increase its value by 1\n",
    "                if word_lower in dict_frequency:\n",
    "                    dict_frequency[word_lower] += 1\n",
    "                else:  # If not, append the word and set its value to 1\n",
    "                    dict_frequency[word_lower] = 1\n",
    "a = sort_marks_desc(dict_frequency)\n",
    "b = list(a.keys())\n",
    "print(\"most frequent 10 words are:\")\n",
    "for i in range(10): #ittrating for loop to print the first ten keys after sorted list\n",
    "    print(b[i])"
   ]
  }
 ],
 "metadata": {
  "kernelspec": {
   "display_name": "Python 3",
   "language": "python",
   "name": "python3"
  },
  "language_info": {
   "name": "python",
   "version": "3.11.4"
  }
 },
 "nbformat": 4,
 "nbformat_minor": 2
}
