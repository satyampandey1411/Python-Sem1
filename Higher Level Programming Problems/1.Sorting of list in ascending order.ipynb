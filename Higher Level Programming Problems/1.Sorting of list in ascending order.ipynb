{
 "cells": [
  {
   "cell_type": "markdown",
   "metadata": {},
   "source": [
    "**Question1:**\n",
    "\n",
    "Given a list of numbers, sort it in ascending order.\n",
    "\n",
    "**Logic:**\n",
    "\n",
    "First of all we will check whether the input given in list_sort_ascending is list or not. If it is a list then we will calculate the length of the list using for loop and store it in a variable named length_listin then we will ittrate a for loop in the range length_listin with the ittrator i then we will ittrate another for loop inside it in the range i+1 to length_listin with the ittrator j, inside this for loop we will compare the ith and jth element of the list and if ith element is greater than jth element then we will swap them. When all the for loop over then outside all the for loop we will return the listin which is now a sorted list in ascending order.\n",
    "\n",
    "**Inputs and Outputs:**\n",
    "\n",
    "    Input:  [1, 8, 5, 3, 9, 2]\n",
    "    Output: [1, 2, 3, 5, 8, 9]\n",
    "    Input:  [7, 3, 1, 3, 3, 8]\n",
    "    Output: [1, 3, 3, 3, 7, 8]"
   ]
  },
  {
   "cell_type": "code",
   "execution_count": null,
   "metadata": {},
   "outputs": [],
   "source": [
    "def list_sort_ascending(listin): #definded a function named list_sort_ascending \n",
    "    if isinstance(listin,list): # checking if the input given in list_sort_ascending is list\n",
    "        length_listin=0 #assigned a variable named length_listin whose value is initialised to 0\n",
    "        for number in listin: #ittrating a for loop in listin\n",
    "            length_listin+=1 #each time when for loop ittrates length_listin get added by 1\n",
    "        for i in range(length_listin): #ittrating a for loop in the range of length_listin\n",
    "            for j in range(i+1, length_listin): #ittrating a for loop in the range of i+1 to length_listin\n",
    "                if listin[i] > listin[j]: #checking if listin ith element is greater than jth element\n",
    "                    listin[i], listin[j] = listin[j], listin[i] #swaping the element i and j in the listin\n",
    "        return listin \n",
    "    else:\n",
    "        return None"
   ]
  }
 ],
 "metadata": {
  "kernelspec": {
   "display_name": "Python 3",
   "language": "python",
   "name": "python3"
  },
  "language_info": {
   "codemirror_mode": {
    "name": "ipython",
    "version": 3
   },
   "file_extension": ".py",
   "mimetype": "text/x-python",
   "name": "python",
   "nbconvert_exporter": "python",
   "pygments_lexer": "ipython3",
   "version": "3.11.6"
  }
 },
 "nbformat": 4,
 "nbformat_minor": 2
}
