{
 "cells": [
  {
   "cell_type": "markdown",
   "metadata": {},
   "source": [
    "**Question2:**\n",
    " \n",
    "Given a list of numbers, find the squares of all the numbers.\n",
    "\n",
    "**Logic:**\n",
    "\n",
    "We will calculate square of numbrs of list using for loop in the list. We have defined an empty list named list_square, appending i square in the list_square inside the for loop and then print list_square outside the for loop.\n",
    "\n",
    "**Inputs and Outputs:**\n",
    "\n",
    "    input:[1, 2, 3, 4, 7, 4, 11]\n",
    "    output:list_square = [1, 4, 9, 16, 49, 16, 121]"
   ]
  },
  {
   "cell_type": "code",
   "execution_count": null,
   "metadata": {},
   "outputs": [],
   "source": [
    "#Ist Method Without function(def)\n",
    "list_num=[1, 2, 3, 4, 7, 4, 11] #a list named list_num is given\n",
    "list_square=[] #created an empty list named list_square\n",
    "for i in list_num: #ittrating a for loop in list_num\n",
    "    list_square.append(i**2) #adding i in the list_square using append function\n",
    "print(\"list_square =\",list_square)"
   ]
  },
  {
   "cell_type": "code",
   "execution_count": 2,
   "metadata": {},
   "outputs": [],
   "source": [
    "#IInd Method With function(def)\n",
    "def num_square(listin):#defined a function named num_square in which a list is taken in input\n",
    "    if isinstance(listin,list): #checking if the input given in the num_square_func is list\n",
    "        list_square=[] #created an empty list named list_square\n",
    "        for i in listin: #ittrating a for loop in listin\n",
    "            list_square.append(i**2) #adding i in the list_square using append function\n",
    "        return list_square #returning list_square\n",
    "    else:\n",
    "        return None\n"
   ]
  }
 ],
 "metadata": {
  "kernelspec": {
   "display_name": "Python 3",
   "language": "python",
   "name": "python3"
  },
  "language_info": {
   "codemirror_mode": {
    "name": "ipython",
    "version": 3
   },
   "file_extension": ".py",
   "mimetype": "text/x-python",
   "name": "python",
   "nbconvert_exporter": "python",
   "pygments_lexer": "ipython3",
   "version": "3.11.6"
  }
 },
 "nbformat": 4,
 "nbformat_minor": 2
}
