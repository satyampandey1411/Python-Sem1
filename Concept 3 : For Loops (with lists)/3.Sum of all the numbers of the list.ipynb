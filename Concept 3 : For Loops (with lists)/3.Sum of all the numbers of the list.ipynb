{
 "cells": [
  {
   "cell_type": "markdown",
   "metadata": {},
   "source": [
    "**Question3:**\n",
    "\n",
    "Given a list of numbers, find the sum of all the numbers.\n",
    "\n",
    "**Logic:**\n",
    "\n",
    "We will calculate the sum of list using for loop in the list. We have defined a variable named length whose valuse is initialised to 0. We will add 1 to length each time when for loop is ittrated.\n",
    "\n",
    "**Inputs and Outputs:**\n",
    "\n",
    "    Input:[1,2,3,4,5]\n",
    "    Output: 15"
   ]
  },
  {
   "cell_type": "code",
   "execution_count": null,
   "metadata": {},
   "outputs": [],
   "source": [
    "#Ist Method Without function(def)\n",
    "list_num=[1,2,3,4,5] #a list named list_num is given\n",
    "summation=0 #assigned a variable named summation whose value is initialised to 0\n",
    "for i in list_num: #ittrating a for loop in list_num\n",
    "    summation+=i #adding i to the summation, each time when the for loop is ittrated\n",
    "print(\"sum of numbers of the list=\",summation)"
   ]
  },
  {
   "cell_type": "code",
   "execution_count": null,
   "metadata": {},
   "outputs": [],
   "source": [
    "#IInd Method With function(def)\n",
    "def list_sum(listin):#defined a function named list_sum in which a list is taken in input\n",
    "    if isinstance(listin,list): #checking if the input given in the list_sum is list\n",
    "        summation=0 #assigned a variable named summation whose value is initialised to 0\n",
    "        for i in list_num: #ittrating a for loop in list_num\n",
    "            summation+=i #adding i to the summation, each time when the for loop is ittrated\n",
    "        return summation #returning summation \n",
    "    else:\n",
    "        return None\n"
   ]
  }
 ],
 "metadata": {
  "kernelspec": {
   "display_name": "Python 3",
   "language": "python",
   "name": "python3"
  },
  "language_info": {
   "codemirror_mode": {
    "name": "ipython",
    "version": 3
   },
   "file_extension": ".py",
   "mimetype": "text/x-python",
   "name": "python",
   "nbconvert_exporter": "python",
   "pygments_lexer": "ipython3",
   "version": "3.11.6"
  }
 },
 "nbformat": 4,
 "nbformat_minor": 2
}
