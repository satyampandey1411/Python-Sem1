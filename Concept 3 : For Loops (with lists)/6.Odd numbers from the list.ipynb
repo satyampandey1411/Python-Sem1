{
 "cells": [
  {
   "cell_type": "markdown",
   "metadata": {},
   "source": [
    "**Question6:**\n",
    "\n",
    "Given a list of numbers, find all the odd numbers in it.\n",
    "\n",
    "**Logic:**\n",
    "\n",
    "We will first create a list named list_odd in which we will append all those integer whose remainder does not come out zero when it is divided by 2.\n",
    "\n",
    "**Inputs and Outputs:**\n",
    "\n",
    "    Input: [1,2,3,4,7,6,16,88]\n",
    "    Output: [1, 3, 7]"
   ]
  },
  {
   "cell_type": "code",
   "execution_count": null,
   "metadata": {},
   "outputs": [],
   "source": [
    "#Ist Method Without funtion(def)\n",
    "list_num=[1,2,3,4,7,6,16,88] #a list named list_num is given\n",
    "list_odd=[] #created an empty list named list_odd\n",
    "for i in list_num: #ittrating for loop in list_num\n",
    "    if i%2!=0: #checking if remainder is not 0 when i is divided by 2\n",
    "        list_odd.append(i) #appending i in the list_odd\n",
    "print(\"list_odd=\",list_odd) "
   ]
  },
  {
   "cell_type": "code",
   "execution_count": null,
   "metadata": {},
   "outputs": [],
   "source": [
    "#IInd Method With function(def)\n",
    "def odd_num(list_num): #defined a function named odd_num\n",
    "    if isinstance(list_num,list): #checking if input given in odd_num is list\n",
    "        list_odd=[] #created an empty list named list_odd\n",
    "        for i in list_num: #ittrating for loop in the list_num\n",
    "            if i%2!=0: #checking if remainder is not 0 when i is divided by 2\n",
    "                list_odd.append(i) #appending i in the list_odd\n",
    "        return list_odd \n",
    "    else:\n",
    "        None"
   ]
  }
 ],
 "metadata": {
  "kernelspec": {
   "display_name": "Python 3",
   "language": "python",
   "name": "python3"
  },
  "language_info": {
   "codemirror_mode": {
    "name": "ipython",
    "version": 3
   },
   "file_extension": ".py",
   "mimetype": "text/x-python",
   "name": "python",
   "nbconvert_exporter": "python",
   "pygments_lexer": "ipython3",
   "version": "3.11.6"
  }
 },
 "nbformat": 4,
 "nbformat_minor": 2
}
