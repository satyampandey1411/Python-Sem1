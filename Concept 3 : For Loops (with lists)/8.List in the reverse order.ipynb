{
 "cells": [
  {
   "cell_type": "markdown",
   "metadata": {},
   "source": [
    "\n",
    "**Question8:**\n",
    "\n",
    "Given a list of numbers, create another list in reverse order.\n",
    "\n",
    "**Logic:**\n",
    "\n",
    "We will first of all create a empty list in which we append the elements of list_num in reverse order by using for loop in the range of length.\n",
    "\n",
    "**Inputs and Outputs:**\n",
    "\n",
    "    Input: [1, 2, 3, 4, 7, 6, 16, 88]\n",
    "    Output:[88, 16, 6, 7, 4, 3, 2, 1]"
   ]
  },
  {
   "cell_type": "code",
   "execution_count": null,
   "metadata": {},
   "outputs": [],
   "source": [
    "#Ist Method Without function(def)\n",
    "list_num=[1, 2, 3, 4, 7, 6, 16, 88] #a list named list_num is given\n",
    "rev_list_num=[] #created an empty list named rev_list_num\n",
    "length=0 #a variable named length is assigned whose value is initialised to 0\n",
    "for i in list_num: #ittrating a for loop in list_num\n",
    "    length+=1 #length get added by 1 when each time for loop is ittrated\n",
    "for i in range(length): #ittrating for loop in the range of length\n",
    "    rev_list_num.append(list_num[-(i+1)]) #appending numbers from reverse order in the rev_list_num\n",
    "print(rev_list_num)"
   ]
  },
  {
   "cell_type": "code",
   "execution_count": null,
   "metadata": {},
   "outputs": [],
   "source": [
    "#IInd Method Without function(def)\n",
    "list_num=[1, 2, 3, 4, 7, 6, 16, 88] #a list named list_num is given\n",
    "rev_list_num=list_num[::-1] #created an list named rev_list_num in which elements get stored in \n",
    "#reverse order of list_num\n",
    "print(rev_list_num)"
   ]
  },
  {
   "cell_type": "code",
   "execution_count": null,
   "metadata": {},
   "outputs": [],
   "source": [
    "#IIIrd Method With function(def)\n",
    "def rev_list_num(list_num): #defined a function named rev_list_num\n",
    "    if isinstance(list_num,list): #checking if input given in rev_list_num is list\n",
    "        rev_list_num=[] #created an empty list named rev_list_num\n",
    "        length=0 #a variable named length is assigned whose value is initialised to 0\n",
    "        for i in list_num: #ittrating a for loop in list_num\n",
    "            length+=1 #length get added by 1 when each time for loop is ittrated\n",
    "        for i in range(length): #ittrating for loop in the range of length\n",
    "            rev_list_num.append(list_num[-(i+1)]) #appending numbers from reverse order in the rev_list_num\n",
    "        return rev_list_num\n",
    "    else:\n",
    "        return None"
   ]
  },
  {
   "cell_type": "code",
   "execution_count": null,
   "metadata": {},
   "outputs": [],
   "source": [
    "#IVth Method With fuction(def)\n",
    "def rev_list_num(list_num): #defined a function namd rev_list_num\n",
    "    if isinstance(list_num,list): #checking if input given in rev_list_num is list\n",
    "        rev_list_num=list_num[::-1] #created an list named rev_list_num in which elements get stored \n",
    "        #in reverse order of list_num\n",
    "        return rev_list_num\n",
    "    else:\n",
    "        return None"
   ]
  }
 ],
 "metadata": {
  "kernelspec": {
   "display_name": "Python 3",
   "language": "python",
   "name": "python3"
  },
  "language_info": {
   "codemirror_mode": {
    "name": "ipython",
    "version": 3
   },
   "file_extension": ".py",
   "mimetype": "text/x-python",
   "name": "python",
   "nbconvert_exporter": "python",
   "pygments_lexer": "ipython3",
   "version": "3.11.6"
  }
 },
 "nbformat": 4,
 "nbformat_minor": 2
}
