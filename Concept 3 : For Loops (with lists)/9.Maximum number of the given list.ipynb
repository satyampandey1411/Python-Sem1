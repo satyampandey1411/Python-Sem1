{
 "cells": [
  {
   "cell_type": "markdown",
   "metadata": {},
   "source": [
    "**Question9:**\n",
    "\n",
    "Given a list of numbers, find out the maximum number.\n",
    "\n",
    "**Logic:**\n",
    "\n",
    "We will first store the first element of the list_num in a variable named max_num and then we will ittrate a for loop in list_num and check if (max) ittrator is greater than max_num then we will store that ittrator in max_num. Finally we will print the max_num.\n",
    "\n",
    "**Inputs and Outputs:**\n",
    "\n",
    "    Input:[1,2,3,4,7,4,88,11]\n",
    "    Output: 88"
   ]
  },
  {
   "cell_type": "code",
   "execution_count": null,
   "metadata": {},
   "outputs": [],
   "source": [
    "#Ist Method Without function(def)\n",
    "list_num=[1,2,3,4,7,4,88,11] #a list named list_num is given\n",
    "max_num=list_num[0] #we are storing first element of list_num in max_num\n",
    "for max in list_num: #ittrating for loop in list_num\n",
    "    if max>max_num: #checking if max is greater than max_num\n",
    "        max_num=max #max_num will be equal to max\n",
    "print(\"maximum number in the list = \",max_num) \n"
   ]
  },
  {
   "cell_type": "code",
   "execution_count": null,
   "metadata": {},
   "outputs": [],
   "source": [
    "#IInd Method With function(def)\n",
    "def max_num(list_num): #defined a function namd max_num\n",
    "    if isinstance(list_num,list): #checking if input given in max_num is list\n",
    "        max_num=list_num[0] #we are storing first element of list_num in max_num\n",
    "        for max in list_num: #ittrating for loop in list_num\n",
    "            if max>max_num: #checking if max is greater than max_num\n",
    "                max_num=max #max_num will be equal to max\n",
    "        return max_num \n",
    "    else:\n",
    "        return None"
   ]
  }
 ],
 "metadata": {
  "kernelspec": {
   "display_name": "Python 3",
   "language": "python",
   "name": "python3"
  },
  "language_info": {
   "codemirror_mode": {
    "name": "ipython",
    "version": 3
   },
   "file_extension": ".py",
   "mimetype": "text/x-python",
   "name": "python",
   "nbconvert_exporter": "python",
   "pygments_lexer": "ipython3",
   "version": "3.11.6"
  }
 },
 "nbformat": 4,
 "nbformat_minor": 2
}
