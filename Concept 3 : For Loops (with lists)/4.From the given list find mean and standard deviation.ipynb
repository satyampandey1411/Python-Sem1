{
 "cells": [
  {
   "cell_type": "markdown",
   "metadata": {},
   "source": [
    "**Question4:**\n",
    "\n",
    "Given a list of numbers, find out the mean and standard deviation.\n",
    "\n",
    "**Logic:**\n",
    "\n",
    "We will calculate the average by calculating the sum of the list and divided the sum by the length of the list. We will calculate the SD by calculating the sum of every (element - Avg)**2 and then divide it by length of the list and then finally take the underroot of it. \n",
    "\n",
    "**Inputs and outputs:**\n",
    "\n",
    "Input: [2,5,7,4,99,65]\n",
    "Output: Avg= 30.333333333333332\n",
    "        SD = 37.85792152538518"
   ]
  },
  {
   "cell_type": "code",
   "execution_count": null,
   "metadata": {},
   "outputs": [],
   "source": [
    "#Ist Method Without function(def)\n",
    "list1=[2,5,7,4,99,65] #a list named list1 is given\n",
    "length = 0 #a variable named length is assigned whose value is initialised to 0\n",
    "summation = 0 #a variable named summation is assigned whose value is initialised to 0\n",
    "SD = 0 #a variable named SD is assigned whose value is initialised to 0\n",
    "for i in list1: #ittrating a for loop in list1\n",
    "    length = length + 1 #length get added by 1 when for loop is ittrated\n",
    "    summation = summation + i #summation get added by i when for loop is ittrated\n",
    "if length == 0: #checking if length is equal to 0\n",
    "    print(\"there is no number in the list, hence avg and standard deviation not defined\")\n",
    "else:\n",
    "    Avg =summation/length #average is equal to summation divide by length\n",
    "    for i in list1: #ittrating a for loop in the list1\n",
    "        SD = SD + (i-Avg)**2 #SD get added by underroot of i-Avg each time when form loop is ittrated\n",
    "    print(\"Avg=\",Avg)\n",
    "    print(\"SD =\",(SD/length)**0.5)"
   ]
  },
  {
   "cell_type": "code",
   "execution_count": null,
   "metadata": {},
   "outputs": [],
   "source": [
    "#IInd Method With function(def)\n",
    "def Avg_SD(list1): #defined a function named Avg_SD\n",
    "    if isinstance(list1,list): #checking if input given in Avg_SD is list\n",
    "        length = 0 #a variable named length is assigned whose value is initialised to 0\n",
    "        summation = 0 #a variable named summation is assigned whose value is initialised to 0\n",
    "        SD = 0 #a variable named SD is assigned whose value is initialised to 0\n",
    "        for i in list1: #ittrating a for loop in list1\n",
    "            length = length + 1 #length get added by 1 when for loop is ittrated\n",
    "            summation = summation + i #summation get added by i when for loop is ittrated\n",
    "        if length == 0: #checking if length is equal to 0\n",
    "            return None\n",
    "        else:\n",
    "            Avg =summation/length #average is equal to summation divide by length\n",
    "            for i in list1: #ittrating a for loop in the list1\n",
    "                SD = SD + (i-Avg)**2 #SD get added by underroot of i-Avg each time when form loop is ittrated\n",
    "            return Avg,(SD/length)**0.5 \n",
    "    else:\n",
    "        return None"
   ]
  }
 ],
 "metadata": {
  "kernelspec": {
   "display_name": "Python 3",
   "language": "python",
   "name": "python3"
  },
  "language_info": {
   "codemirror_mode": {
    "name": "ipython",
    "version": 3
   },
   "file_extension": ".py",
   "mimetype": "text/x-python",
   "name": "python",
   "nbconvert_exporter": "python",
   "pygments_lexer": "ipython3",
   "version": "3.11.6"
  }
 },
 "nbformat": 4,
 "nbformat_minor": 2
}
