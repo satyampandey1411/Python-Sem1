{
 "cells": [
  {
   "cell_type": "markdown",
   "metadata": {},
   "source": [
    "**Question7:**\n",
    "\n",
    "Given a list of numbers, find out how many even numbers it has.\n",
    "\n",
    "**Logic:**\n",
    "\n",
    "We will first assign a variable named num_of_even_num whose value is initialised to 0 then we ittrate for loop in the list_num and those no give remainder 0 when they divided by 2 then we will increase num_of_even_num by 1 each time. Finally we will print the num_of_even_num.\n",
    "\n",
    "**Inputs and Outputs:**\n",
    "\n",
    "    Input: [1,2,3,4,7,6,16,88]\n",
    "    Output: 5"
   ]
  },
  {
   "cell_type": "code",
   "execution_count": null,
   "metadata": {},
   "outputs": [],
   "source": [
    "#Ist Method Without funtion(def)\n",
    "list_num=[1,2,3,4,7,6,16,88] #a list named list_num is given\n",
    "num_of_even_num=0 #assigned a variable named num_of_enen_num whose value is initialised to 0\n",
    "for i in list_num: #ittrating for loop in list_num\n",
    "    if i%2==0: #checking if remainder is 0 when i is divided by 2\n",
    "      num_of_even_num+=1 #num_of_even_num get added by 1 when for loop ittrates\n",
    "print(\"total even no. in the list =\",num_of_even_num) "
   ]
  },
  {
   "cell_type": "code",
   "execution_count": null,
   "metadata": {},
   "outputs": [],
   "source": [
    "#IInd Method With function(def)\n",
    "def num_of_even_num(list_num): #defined a function named num_of_even_num\n",
    "    if isinstance(list_num,list): #checking if input given in num_of_even_num is list\n",
    "        num_of_even_num=0 #assigned a variable named num_of_enen_num whose value is initialised to 0\n",
    "        for i in list_num: #ittrating for loop in list_num\n",
    "            if i%2==0: #checking if remainder is 0 when i is divided by 2\n",
    "                num_of_even_num+=1 #num_of_even_num get added by 1 each time when for loop ittrates\n",
    "        return num_of_even_num\n",
    "    else:\n",
    "        return None"
   ]
  }
 ],
 "metadata": {
  "kernelspec": {
   "display_name": "Python 3",
   "language": "python",
   "name": "python3"
  },
  "language_info": {
   "codemirror_mode": {
    "name": "ipython",
    "version": 3
   },
   "file_extension": ".py",
   "mimetype": "text/x-python",
   "name": "python",
   "nbconvert_exporter": "python",
   "pygments_lexer": "ipython3",
   "version": "3.11.6"
  }
 },
 "nbformat": 4,
 "nbformat_minor": 2
}
