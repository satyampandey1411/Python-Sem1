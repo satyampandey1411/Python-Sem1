{
 "cells": [
  {
   "cell_type": "markdown",
   "metadata": {},
   "source": [
    "**Question10:**\n",
    "\n",
    "Given a list of numbers, find out the index of another given number.\n",
    "\n",
    "**Logic:**\n",
    "\n",
    "First of all we will assign a variable named index1 whose value is initialised to -1 and then we will calculate the length of the list_num by ittrating for loop in the list_num, then we will ittrate a for loop and inside the for loop we will increase the index1 by 1 each time when for loop is ittrated and then we will check the number by if condition and when number becomes equal to num1 then we will print the index1.\n",
    "\n",
    "**Inputs and Outputs:**\n",
    "\n",
    "    Input: [1,2,3,4,7,6,16,88]\n",
    "           number=2\n",
    "    Output:index = 1 or -7"
   ]
  },
  {
   "cell_type": "code",
   "execution_count": null,
   "metadata": {},
   "outputs": [],
   "source": [
    "list_num=[1,2,3,4,7,6,16,88] #a list named list_num is given \n",
    "number=float(input(\"enter the number\")) #taking number as input from the user\n",
    "if number in list_num: #checking if number in list_num\n",
    "    index1=-1 #assigned a variable named index1 whose value is initialised to -1\n",
    "    length_list_num=0 #assigned a variable named length_list_num whose value is initialised to 0\n",
    "    for num1 in list_num: #ittrating for loop in the list_num\n",
    "       length_list_num+=1 #length_list_num get added by 1 each time when for loop is ittrated \n",
    "    for num1 in list_num: #ittrating for loop in the list_num\n",
    "        index1+=1 #index1 get added by 1 each time when for loop is ittrated\n",
    "        if num1==number: #checking if num1 is equal to number\n",
    "            print(\"index =\",index1,\"or\",-(length_list_num-index1))\n",
    "else:\n",
    "    print(\"entered number is not in list_num\")"
   ]
  }
 ],
 "metadata": {
  "kernelspec": {
   "display_name": "Python 3",
   "language": "python",
   "name": "python3"
  },
  "language_info": {
   "codemirror_mode": {
    "name": "ipython",
    "version": 3
   },
   "file_extension": ".py",
   "mimetype": "text/x-python",
   "name": "python",
   "nbconvert_exporter": "python",
   "pygments_lexer": "ipython3",
   "version": "3.11.6"
  }
 },
 "nbformat": 4,
 "nbformat_minor": 2
}
