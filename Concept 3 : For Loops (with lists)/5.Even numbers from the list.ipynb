{
 "cells": [
  {
   "cell_type": "markdown",
   "metadata": {},
   "source": [
    "**Question5:**\n",
    "\n",
    "Given a list of numbers, find all the even numbers in it.\n",
    "\n",
    "**Logic:**\n",
    "\n",
    "We will first create a list named list_even in which we will append all those integer whose remainder come out zero when it is divided by 2.\n",
    "\n",
    "**Inputs and Outputs:**\n",
    "\n",
    "    Input: [1,2,3,4,7,6,16,88]\n",
    "    Output: [2, 4, 6, 16, 88]"
   ]
  },
  {
   "cell_type": "code",
   "execution_count": null,
   "metadata": {},
   "outputs": [],
   "source": [
    "#Ist Method Without funtion(def)\n",
    "list_num=[1,2,3,4,7,6,16,88] #a list named list_num is given\n",
    "list_even=[] #created an empty list named list_even\n",
    "for i in list_num: #ittrating for loop in list_num\n",
    "    if i%2==0: #checking if remainder is 0 when i is divided by 2\n",
    "        list_even.append(i) #appending i in the list_even\n",
    "print(\"list_even=\",list_even)"
   ]
  },
  {
   "cell_type": "code",
   "execution_count": null,
   "metadata": {},
   "outputs": [],
   "source": [
    "#IInd Method With function(def)\n",
    "def even_num(list_num): #defined a function named even_num\n",
    "    if isinstance(list_num,list): #checking if input given in list_num is list\n",
    "        list_even=[] #created an empty list named list_even\n",
    "        for i in list_num: #ittrating for loop in the list_num\n",
    "            if i%2==0: #checking if remainder is 0 when i is divided by 2\n",
    "                list_even.append(i) #appending i in the list_even\n",
    "        return list_even \n",
    "    else:\n",
    "        None"
   ]
  }
 ],
 "metadata": {
  "kernelspec": {
   "display_name": "Python 3",
   "language": "python",
   "name": "python3"
  },
  "language_info": {
   "codemirror_mode": {
    "name": "ipython",
    "version": 3
   },
   "file_extension": ".py",
   "mimetype": "text/x-python",
   "name": "python",
   "nbconvert_exporter": "python",
   "pygments_lexer": "ipython3",
   "version": "3.11.6"
  }
 },
 "nbformat": 4,
 "nbformat_minor": 2
}
