{
 "cells": [
  {
   "cell_type": "markdown",
   "metadata": {},
   "source": [
    "**Question1:**\n",
    "\n",
    "Given a list of numbers, find out its length.\n",
    "\n",
    "**Logic:**\n",
    "\n",
    "We will calculate length of list using for loop in the list. We have defined a variable named length whose valuse is initialised to 0. We will add 1 to length each time when for loop is ittrated.\n",
    "\n",
    "**Inputs and Outputs:**\n",
    "\n",
    "    input:[1,2,3,4,7,4,88,11]\n",
    "    output:length= 8"
   ]
  },
  {
   "cell_type": "code",
   "execution_count": null,
   "metadata": {},
   "outputs": [],
   "source": [
    "#Ist Method Without function(def)\n",
    "list_num=[1,2,3,4,7,4,88,11] #a list named list_num is given\n",
    "length=0 #assigned a variable named length whose value is initialised to 0\n",
    "for i in list_num: #ittrating a for loop in the list_num\n",
    "    length+=1 #adding 1 to the length, each time when the for loop is ittrated\n",
    "print(\"length=\",length)"
   ]
  },
  {
   "cell_type": "code",
   "execution_count": 2,
   "metadata": {},
   "outputs": [],
   "source": [
    "#IInd Method With function(def)\n",
    "def length_func(listin):#defined a function named length_func in which a list is taken in input\n",
    "    if isinstance(listin,list):\n",
    "        length=0 #assigned a variable named length whos value is initialised to 0\n",
    "        for i in list_num: #ittrating a for loop in the list_num\n",
    "            length+=1 #adding 1 to the length each time when the for loop is ittrated\n",
    "        return length #returning the output as length\n",
    "    else:\n",
    "        return None"
   ]
  }
 ],
 "metadata": {
  "kernelspec": {
   "display_name": "Python 3",
   "language": "python",
   "name": "python3"
  },
  "language_info": {
   "codemirror_mode": {
    "name": "ipython",
    "version": 3
   },
   "file_extension": ".py",
   "mimetype": "text/x-python",
   "name": "python",
   "nbconvert_exporter": "python",
   "pygments_lexer": "ipython3",
   "version": "3.11.6"
  }
 },
 "nbformat": 4,
 "nbformat_minor": 2
}
