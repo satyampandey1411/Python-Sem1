{
 "cells": [
  {
   "cell_type": "markdown",
   "metadata": {},
   "source": [
    "**Question9:**\n",
    "\n",
    "Create a dictionary whose keys are the names of your family members and friends, and the values are the list of fruits they like to eat. Now if the user gives a fruit as input, the code should print the list of names who like this fruit. Write another code to print the list of people who do not like this fruit. Using this dictionary as input, write a code to make a consolidated list of all the fruit names present in the values of various keys. This list should not have any duplicate entries. Do not use the set() function.\n",
    "\n",
    "**Logic:**\n",
    "First of all we will separate the store the names of member who like the fruit given in input in a list named Fruit_like and also store the name of the member who don't like in another list named Fruit_dislike by using for in in the dictionary named dict_family. Then we will create an empty list named Fruit_list_unique in which we will add all the name of fruit one time by using for loop and if fruit not present in Fruit_list_unique then appending the fruit name.\n",
    "\n",
    "**Output:**\n",
    "\n",
    "    Members who like fruit given in input= ['Ganesh Prasad Pandey', 'Gauri Devi', 'Pragya Pandey', 'Satyam Kumar Pandey']\n",
    "    Members who dislike fruit given in input= ['Shivam Kumar Pandey', 'Shreyansh Kumar Pandey']\n",
    "    Fruit_list_unique= ['Mango', 'Orange', 'Pineapple', 'Apple', 'Cherry', 'Papaya', 'Banana', 'Grape']"
   ]
  },
  {
   "cell_type": "code",
   "execution_count": null,
   "metadata": {},
   "outputs": [],
   "source": [
    "dict_family={\"Ganesh Prasad Pandey\":[\"Mango\",\"Orange\",\"Pineapple\"],\n",
    "             \"Gauri Devi\":[\"Apple\",\"Cherry\",\"Mango\"],\n",
    "             \"Pragya Pandey\":[\"Mango\",\"Papaya\",\"Cherry\"],\n",
    "             \"Shivam Kumar Pandey\":[\"Banana\",\"Pineapple\",\"Orange\"],\n",
    "             \"Satyam Kumar Pandey\":[\"Grape\",\"Orange\",\"Mango\"],\n",
    "             \"Shreyansh Kumar Pandey\":[\"Apple\",\"Orange\",\"Papaya\"]} #created a dictionay of family\n",
    "#members name as key and the list of fruit they liked as value\n",
    "Fruit=input(\"enter the name of the fruit\") #taking Fruit as input from the user\n",
    "Fruit_like=[] #created an empty list named Fruit_like\n",
    "Fruit_dislike=[] #created an empty list named Fruit_like\n",
    "for name,fruit_list in dict_family.items(): #ittrating a for loop in the dict_family dictionary\n",
    "    if Fruit in fruit_list: #checking if Fruit present in fruit_list\n",
    "        Fruit_like.append(name) #appending the name in Fruit_like\n",
    "    else:\n",
    "        Fruit_dislike.append(name) #appending the name in Fruit_dislike\n",
    "print(\"Members who like fruit given in input=\",Fruit_like)\n",
    "print(\"Members who dislike fruit given in input=\",Fruit_dislike)\n",
    "\n",
    "Fruit_list_unique=[] #created an empty list named Fruit_list_unique\n",
    "for fruit_list in dict_family.values(): #ittrating a for loop in dict_family\n",
    "    for fruit in fruit_list: #ittrating for loop in values of the dict_family dictionary\n",
    "        if fruit not in Fruit_list_unique: #checking if fruit nit in Fruit_list_unique\n",
    "            Fruit_list_unique.append(fruit) #appending fruit in Fruit_list_unique\n",
    "print('Fruit_list_unique=',Fruit_list_unique)"
   ]
  }
 ],
 "metadata": {
  "kernelspec": {
   "display_name": "Python 3",
   "language": "python",
   "name": "python3"
  },
  "language_info": {
   "name": "python",
   "version": "3.11.4"
  }
 },
 "nbformat": 4,
 "nbformat_minor": 2
}
