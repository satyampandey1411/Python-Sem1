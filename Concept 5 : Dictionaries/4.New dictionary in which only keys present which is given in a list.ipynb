{
 "cells": [
  {
   "cell_type": "markdown",
   "metadata": {},
   "source": [
    "**Question4:**\n",
    "\n",
    "Create a new dictionary so that it only has the keys mentioned in another list\n",
    "sample_dict = { “name”: “Kelly”, “age”: 25, “salary”: 8000, “city”: “New york”}\n",
    "Keys to extract\n",
    "keys = [“name”, “salary”]\n",
    "\n",
    "**Logic:**\n",
    "\n",
    "First of all we will create an empty dictionary named new_dict and by using for loop and if condition we will add the key present in keys as a key in new_dict and the value corresponding to the key as value in new_dict.\n",
    "\n",
    "**Inputs and Outputs:**\n",
    "\n",
    "    Input: sample_dict = {\"name\": \"Kelly\", \"age\": 25, \"salary\": 8000, \"city\": \"New york\"} and keys=[\"name\",\"salary\"] \n",
    "    Output:{'name': 'Kelly', 'salary': 8000}\n"
   ]
  },
  {
   "cell_type": "code",
   "execution_count": null,
   "metadata": {},
   "outputs": [],
   "source": [
    "#a dictionary named sample_dict is given\n",
    "sample_dict = {\"name\": \"Kelly\", \"age\": 25, \"salary\": 8000, \"city\": \"New york\"}\n",
    "keys=[\"name\",\"salary\"] #a list named keys is given\n",
    "new_dict = {} #created an empty dictionary named new_dict\n",
    "for key in keys: #ittrating a for loop in keys\n",
    "  if key in sample_dict: #checking if key is present in sample_dict\n",
    "    new_dict[key] = sample_dict[key] #adding key and the value corresponding to the key in new_dict\n",
    "print(new_dict)"
   ]
  }
 ],
 "metadata": {
  "kernelspec": {
   "display_name": "Python 3",
   "language": "python",
   "name": "python3"
  },
  "language_info": {
   "codemirror_mode": {
    "name": "ipython",
    "version": 3
   },
   "file_extension": ".py",
   "mimetype": "text/x-python",
   "name": "python",
   "nbconvert_exporter": "python",
   "pygments_lexer": "ipython3",
   "version": "3.11.6"
  }
 },
 "nbformat": 4,
 "nbformat_minor": 2
}
