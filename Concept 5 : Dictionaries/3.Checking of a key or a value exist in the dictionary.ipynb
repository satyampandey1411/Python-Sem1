{
 "cells": [
  {
   "cell_type": "markdown",
   "metadata": {},
   "source": [
    "**Question3:**\n",
    "\n",
    "Check if a key exists in a dictionary:\n",
    "sample_dict = {‘a’: 100, ‘b’: 200, ‘c’: 300}\n",
    "key_needed = ‘d’\n",
    "Check if a value exists in a dictionary:\n",
    "sample_dict = {‘a’: 100, ‘b’: 200, ‘c’: 300}\n",
    "value_needed = 200\n",
    "\n",
    "**Logic:**\n",
    "\n",
    "We will check whether the key or value is present by using if condition.\n",
    "\n",
    "**Inputs and Outputs:**\n",
    "\n",
    "    Input (for key check): sample_dict = {'a': 100, 'b': 200, 'c': 300}\n",
    "                           key_needed = 'd'\n",
    "    Output: key does not exist in the sample_dict       \n",
    "    Input(for value check): sample_dict = {‘a’: 100, ‘b’: 200, ‘c’: 300}\n",
    "                            value_needed = 200\n",
    "    Output: value exist in the sample_dict"
   ]
  },
  {
   "cell_type": "code",
   "execution_count": null,
   "metadata": {},
   "outputs": [],
   "source": [
    "#Key checking\n",
    "sample_dict={'a':100,'b':200,'c':300} #dictionary named sample_dict is given\n",
    "key_needed='d' #key_needed is given\n",
    "if key_needed in sample_dict.keys(): #checking if key_needed is present in sample_dict as a key\n",
    "    print(\"key exist in the sample_dict\") \n",
    "else:\n",
    "    print(\"key does not exist in the sample_dict\")"
   ]
  },
  {
   "cell_type": "code",
   "execution_count": null,
   "metadata": {},
   "outputs": [],
   "source": [
    "#value checking\n",
    "sample_dict={'a':100,'b':200,'c':300} #dictionary named sample_dict is given\n",
    "value_needed=200 #value_needed is given\n",
    "if value_needed in sample_dict.values(): #checking if value_needed is present in sample_dict as a key\n",
    "    print(\"value exist in the sample_dict\")\n",
    "else:\n",
    "    print(\"value does not exist in the sample_dict\")"
   ]
  }
 ],
 "metadata": {
  "kernelspec": {
   "display_name": "Python 3",
   "language": "python",
   "name": "python3"
  },
  "language_info": {
   "codemirror_mode": {
    "name": "ipython",
    "version": 3
   },
   "file_extension": ".py",
   "mimetype": "text/x-python",
   "name": "python",
   "nbconvert_exporter": "python",
   "pygments_lexer": "ipython3",
   "version": "3.11.6"
  }
 },
 "nbformat": 4,
 "nbformat_minor": 2
}
