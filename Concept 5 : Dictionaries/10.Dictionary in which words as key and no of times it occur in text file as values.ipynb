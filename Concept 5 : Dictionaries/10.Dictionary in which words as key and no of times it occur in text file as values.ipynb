{
 "cells": [
  {
   "cell_type": "markdown",
   "metadata": {},
   "source": [
    "**Question10:**\n",
    "\n",
    "Create a text file with one word in each line. The words can be repeated, i.e. the same word can come in more than one line. Read this text file in python, and create a dictionary where the key is the word and the value is the number of times it occurs in the text file.\n",
    "\n",
    "**Logic:**\n",
    "\n",
    "We will first open the text file in read mode and then we will ittrate for loop in file and we will remove the white spaces of start line and end line if there is white space by using strip function. Then we will lower down the word in lower case by using lower function then we will check if line is non empty and we will check if word is already appended in the dictionary and we found another word then we will increase its value by one otherwise we will append the word with its value as 1 after the we will print the dict_frequency outside the for loop.\n",
    "\n",
    "**Inputs and Outputs:**\n",
    "\n",
    "    Input: A text file named 10.Words in which there are words in different line\n",
    "    Output: dict_frequency= {'satyam': 3, 'kumar': 2, 'pandey': 2, 'jnv': 3}"
   ]
  },
  {
   "cell_type": "code",
   "execution_count": null,
   "metadata": {},
   "outputs": [],
   "source": [
    "dict_frequency = {}  #created an empty dictionary named dict_frequency \n",
    "with open(\"10.Words.txt\",'r') as file:  # opening the text file named 10.Words in read mode\n",
    "    for line in file:  # iterating a for loop in the file line by line\n",
    "        word = line.strip() # removing the white spaces of start line and end line if there is white space by using strip function\n",
    "        word_lower = word.lower() #converting word in lower case because word in upper case will also be the same word\n",
    "        # Checking if the line is not empty\n",
    "        if word_lower: \n",
    "            # Checking if the word already appended in the above created then, will increase its value by 1\n",
    "            if word_lower in dict_frequency:\n",
    "                dict_frequency[word_lower] += 1\n",
    "            else:  # If not then appending the word and storing its value to 1.\n",
    "                dict_frequency[word_lower] = 1\n",
    "print('dict_frequency=',dict_frequency) "
   ]
  }
 ],
 "metadata": {
  "kernelspec": {
   "display_name": "Python 3",
   "language": "python",
   "name": "python3"
  },
  "language_info": {
   "codemirror_mode": {
    "name": "ipython",
    "version": 3
   },
   "file_extension": ".py",
   "mimetype": "text/x-python",
   "name": "python",
   "nbconvert_exporter": "python",
   "pygments_lexer": "ipython3",
   "version": "3.11.6"
  }
 },
 "nbformat": 4,
 "nbformat_minor": 2
}
