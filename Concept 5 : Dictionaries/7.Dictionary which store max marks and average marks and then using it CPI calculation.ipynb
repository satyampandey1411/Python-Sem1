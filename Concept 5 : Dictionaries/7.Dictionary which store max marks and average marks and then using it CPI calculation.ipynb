{
 "cells": [
  {
   "cell_type": "markdown",
   "metadata": {},
   "source": [
    "**Question7:**\n",
    "\n",
    "Write a for loop to create another dictionary from the above where the marks are replaced by grades. Above 80 is A grade, 60–80 is B grade, 40–60 is C grade, and below 40 is F. Create another dictionary to store the max and average marks for each student. Use this dictionary to compute the final CPI/CGPA of the student. Course1 is of 4 credits, Course2 of 10 credits, and Course3 of 6 credits. Store these credits in a list. Write this dictionary as a json file, and read it back into a new dictionary.\n",
    "\n",
    "**Logic:**\n",
    "\n",
    "\n",
    "\n",
    "**Inputs and Outputs:**\n",
    "\n",
    "    Input:\n",
    "    Output:\n",
    "    Input:\n",
    "    Output:"
   ]
  },
  {
   "cell_type": "code",
   "execution_count": 14,
   "metadata": {},
   "outputs": [
    {
     "name": "stdout",
     "output_type": "stream",
     "text": [
      "dict_student_max_avg= {'Satyam Kumar Pandey': (100, 99.0), 'Pankaj Rishi': (92, 72.33333333333333), 'Nikhil Raj Shoni': (83, 66.0), 'Saurabh Yadav': (80, 63.333333333333336), 'Mayank Singh Tomar': (88, 73.66666666666667)}\n",
      "dict_student_grades= {'Satyam Kumar Pandey': ['A', 'A', 'A'], 'Pankaj Rishi': ['A', 'C', 'B'], 'Nikhil Raj Shoni': ['B', 'A', 'C'], 'Saurabh Yadav': ['C', 'B', 'B'], 'Mayank Singh Tomar': ['A', 'C', 'B']}\n",
      "{'Satyam Kumar Pandey': 10.0, 'Pankaj Rishi': 8.7, 'Nikhil Raj Shoni': 9.2, 'Saurabh Yadav': 8.8, 'Mayank Singh Tomar': 8.7}\n"
     ]
    }
   ],
   "source": [
    "dict_marks = {'Satyam Kumar Pandey': [100, 99, 98],\n",
    "              'Pankaj Rishi': [92, 58, 67],\n",
    "              'Nikhil Raj Shoni': [73, 83, 42],\n",
    "              'Saurabh Yadav': [41, 80, 69],\n",
    "              'Mayank Singh Tomar': [88, 57, 76]}\n",
    "course_name = [\"Communication & ethics\", \"Python\", \"Linear Algebra\"]\n",
    "\n",
    "course_credits = [4, 10, 6]\n",
    "dict_credit = {\"A\": 10, \"B\": 9, \"C\": 8, \"F\": 7}\n",
    "total_credit = sum(course_credits)\n",
    "\n",
    "dict_student_grades = {}\n",
    "dict_student_max_avg = {}\n",
    "dict_student_CPI = {}\n",
    "\n",
    "for student, marks_list in dict_marks.items():\n",
    "    grade_list = []\n",
    "\n",
    "    max_mark = max(marks_list)\n",
    "    avg_mark = sum(marks_list) / len(course_name)\n",
    "\n",
    "    for mark in marks_list:\n",
    "        grade_list.append(\"A\" if 80 < mark <= 100 else \"B\" if 60 < mark else \"C\" if 40 < mark else \"F\")\n",
    "\n",
    "    dict_student_grades[student] = grade_list\n",
    "    dict_student_max_avg[student] = (max_mark, avg_mark)\n",
    "\n",
    "    CPI = 0\n",
    "    for i in range(len(course_name)):\n",
    "        CPI+=dict_credit[grade_list[i]] *course_credits[i]\n",
    "\n",
    "    CPI/= total_credit\n",
    "    dict_student_CPI[student] = CPI\n",
    "\n",
    "# Save to JSON\n",
    "import json\n",
    "with open(\"student_data.json\",\"w\") as file:\n",
    "    json.dump(dict_student_CPI, file, indent=5)\n",
    "\n",
    "# Read from JSON\n",
    "with open(\"student_data.json\",\"r\") as file:\n",
    "    loaded_data = json.load(file)\n",
    "\n",
    "print('dict_student_max_avg=',dict_student_max_avg)\n",
    "print('dict_student_grades=',dict_student_grades)\n",
    "print(loaded_data)\n"
   ]
  }
 ],
 "metadata": {
  "kernelspec": {
   "display_name": "Python 3",
   "language": "python",
   "name": "python3"
  },
  "language_info": {
   "codemirror_mode": {
    "name": "ipython",
    "version": 3
   },
   "file_extension": ".py",
   "mimetype": "text/x-python",
   "name": "python",
   "nbconvert_exporter": "python",
   "pygments_lexer": "ipython3",
   "version": "3.11.6"
  }
 },
 "nbformat": 4,
 "nbformat_minor": 2
}
