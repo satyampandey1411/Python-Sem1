{
 "cells": [
  {
   "cell_type": "markdown",
   "metadata": {},
   "source": [
    "**Question5:**\n",
    "\n",
    "Remove a key from a dictionary:\n",
    "dict_name.pop(key_name)\n",
    "What does this function return?\n",
    "Use pop to rename a key.\n",
    "\n",
    "**Logic:**\n",
    "\n",
    "First of all we will take a dictionary as input named sample_dict and then we will remove the age key by simply using pop function. pop function returns us the valu corresponding to the key removed. We will rename a key named name to satyam simply by using the pop function.\n",
    "\n",
    "**Inputs and Outputs:**\n",
    "\n",
    "    Input(for removing): sample_dict = {\"name\": \"Kelly\", \"age\": 25, \"salary\": 8000, \"city\":\"New york\"} and remove 'age'\n",
    "    Output: 25\n",
    "           {'name': 'Kelly', 'salary': 8000, 'city': 'New york'}\n",
    "    Input(for renaming): sample_dict = {\"name\": \"Kelly\", \"age\": 25, \"salary\": 8000, \"city\":\"New york\"} and rename 'name' to 'satyam'\n",
    "    Output: {'age': 25, 'salary': 8000, 'city': 'New york', 'satyam': 'Kelly'}"
   ]
  },
  {
   "cell_type": "code",
   "execution_count": null,
   "metadata": {},
   "outputs": [],
   "source": [
    "#Removing of a key\n",
    "sample_dict = {\"name\": \"Kelly\", \"age\": 25, \"salary\": 8000, \"city\": \"New york\"} #taken a dictionary named sample_dict\n",
    "a=sample_dict.pop(\"age\") #removing the key named age by using pop function\n",
    "print(a)\n",
    "print(\"sample_dict:\",sample_dict)"
   ]
  },
  {
   "cell_type": "code",
   "execution_count": 11,
   "metadata": {},
   "outputs": [],
   "source": [
    "#pop function return the value corresponding to the key which you have removed."
   ]
  },
  {
   "cell_type": "code",
   "execution_count": null,
   "metadata": {},
   "outputs": [],
   "source": [
    "sample_dict = {\"name\": \"Kelly\", \"age\": 25, \"salary\": 8000, \"city\": \"New york\"} #taken a dictionary named sample_dict\n",
    "sample_dict[\"satyam\"]=sample_dict.pop(\"name\") #renaming key named name to satyam\n",
    "print('sample_dict:',sample_dict)"
   ]
  }
 ],
 "metadata": {
  "kernelspec": {
   "display_name": "Python 3",
   "language": "python",
   "name": "python3"
  },
  "language_info": {
   "codemirror_mode": {
    "name": "ipython",
    "version": 3
   },
   "file_extension": ".py",
   "mimetype": "text/x-python",
   "name": "python",
   "nbconvert_exporter": "python",
   "pygments_lexer": "ipython3",
   "version": "3.11.6"
  }
 },
 "nbformat": 4,
 "nbformat_minor": 2
}
