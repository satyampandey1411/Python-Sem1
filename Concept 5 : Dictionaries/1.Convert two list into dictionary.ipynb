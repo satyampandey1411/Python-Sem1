{
 "cells": [
  {
   "cell_type": "markdown",
   "metadata": {},
   "source": [
    "**Question1:**\n",
    "\n",
    "Convert these two lists into a dictionary. Take the keys from the first list, and values from the second one.\n",
    "keys = [‘Ten’, ‘Twenty’, ‘Thirty’]\n",
    "values = [10, 20, 30]\n",
    "\n",
    "**Logic:**\n",
    "\n",
    "We will first of all check the length of both the list keys and values. If length of both the list is same then we will for loop in the range of length of the values and inside for loop we will make key for the dictionary from the keys list and make value of the corresponding key from the value list and then we will get the dictionary. If length of both the list is not same then we will simply say that data is not acurate.\n",
    "\n",
    "**Inputs and Outputs:**\n",
    "\n",
    "    Input: keys = [‘Ten’, ‘Twenty’, ‘Thirty’]\n",
    "           values = [10, 20, 30]\n",
    "    Output: {'Ten': 10, 'Twenty': 20, 'Thirty': 30}"
   ]
  },
  {
   "cell_type": "code",
   "execution_count": null,
   "metadata": {},
   "outputs": [],
   "source": [
    "#Ist Method Without function(def)\n",
    "keys = ['Ten', 'Twenty', 'Thirty'] #list named keys is given \n",
    "values = [10, 20, 30] #list named values is given\n",
    "dict_num={} #created an empty dictionary\n",
    "length_keys=0 #assigned a variable named length_keys whose value is initialised to 0\n",
    "length_values=0 #assigned a variable named length_values whose value is initialised to 0\n",
    "for a in keys:  #ittrating a for loop in the keys \n",
    "    length_keys+=1 #length_keys get added by 1 as for loop ittrate\n",
    "for b in values: #ittrating a for loop in the values\n",
    "    length_values+=1 #length_values get added by 1 as for loop ittrate\n",
    "if length_keys==length_values: #checking if length_keys is equal to length_values\n",
    "    for i in range(length_keys): #ittrating for loop in the range of length_keys\n",
    "        dict_num[keys[i]]=values[i] #in dict_num keys ith index will become key and values ith index will be its value\n",
    "    print(dict_num) \n",
    "else:\n",
    "    print(\"given data is not accurate\")\n"
   ]
  },
  {
   "cell_type": "code",
   "execution_count": null,
   "metadata": {},
   "outputs": [],
   "source": [
    "#IInd Method With function(def)\n",
    "def dict_by_list(list1,list2): #defined a function named dict_by_list in which there are 2 arguments list1 and lis2\n",
    "    if isinstance(list1,list) and isinstance(list2,list): #checking if both list1 and list2 is list\n",
    "        dict_num={} #created an empty dictionary\n",
    "        length_keys=0 #assigned a variable named length_keys whose value is initialised to 0\n",
    "        length_values=0 #assigned a variable named length_values whose value is initialised to 0\n",
    "        for a in keys:  #ittrating a for loop in the keys \n",
    "            length_keys+=1 #length_keys get added by 1 as for loop ittrate\n",
    "        for b in values: #ittrating a for loop in the values\n",
    "            length_values+=1 #length_values get added by 1 as for loop ittrate\n",
    "        if length_keys==length_values: #checking if length_keys is equal to length_values\n",
    "            for i in range(length_keys): #ittrating for loop in the range of length_keys\n",
    "                dict_num[keys[i]]=values[i] #in dict_num keys ith index will become key and values ith index will be its value\n",
    "            return dict_num\n",
    "        else:\n",
    "            return None\n",
    "    else:\n",
    "        return None"
   ]
  }
 ],
 "metadata": {
  "kernelspec": {
   "display_name": "Python 3",
   "language": "python",
   "name": "python3"
  },
  "language_info": {
   "codemirror_mode": {
    "name": "ipython",
    "version": 3
   },
   "file_extension": ".py",
   "mimetype": "text/x-python",
   "name": "python",
   "nbconvert_exporter": "python",
   "pygments_lexer": "ipython3",
   "version": "3.11.6"
  }
 },
 "nbformat": 4,
 "nbformat_minor": 2
}
