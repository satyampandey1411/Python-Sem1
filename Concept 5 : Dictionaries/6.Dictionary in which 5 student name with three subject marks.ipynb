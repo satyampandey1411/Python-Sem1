{
 "cells": [
  {
   "cell_type": "markdown",
   "metadata": {},
   "source": [
    "**Question6:**\n",
    "\n",
    "Create a dictionary to store the total marks of 5 students in the class in 3 subjects (Course1, Course2, Course3). The keys must be the student names, and the values must be the list of marks. Create another list which has the course names in the same order as the marks are stored in the dictionary values. Now write a nested for loop to print the marks for each student exam wise.\n",
    "    \n",
    "    Student1\n",
    "    Course1 marks : 82\n",
    "    Course2 marks : 84\n",
    "    Course3 marks : 72\n",
    "    Student2\n",
    "    Course1 marks : 87\n",
    "    Course2 marks : 83\n",
    "    Course3 marks : 78\n",
    "\n",
    "**Logic:**\n",
    "\n",
    "We will first of all create an empty dictionary in which we will add the name of five students as key and the list of marks of three subjects as their values. Then we will print the key using for loop and inside the for loop we will ittrate another for loop in the range of course_len and print subject and their corresponding marks.\n",
    "\n",
    "**Output:**\n",
    "    \n",
    "    {'Satyam Kumar Pandey': [100, 99, 98], 'Pankaj Rishi': [97, 96, 95], 'Nikhil Raj Shoni': [94, 93, 92], 'Saurabh Yadav': [91, 90, 89], 'Mayank Singh Tomar': [88, 87, 86]}\n",
    "    \n",
    "    Satyam Kumar Pandey\n",
    "    Communication & ethics marks : 100\n",
    "    Python marks : 99\n",
    "    Linear Algebra marks : 98\n",
    "\n",
    "\n",
    "    Pankaj Rishi\n",
    "    Communication & ethics marks : 97\n",
    "    Python marks : 96\n",
    "    Linear Algebra marks : 95\n",
    "\n",
    "\n",
    "    Nikhil Raj Shoni\n",
    "    Communication & ethics marks : 94\n",
    "    Python marks : 93\n",
    "    Linear Algebra marks : 92\n",
    "\n",
    "\n",
    "    Saurabh Yadav\n",
    "    Communication & ethics marks : 91\n",
    "    Python marks : 90\n",
    "    Linear Algebra marks : 89\n",
    "\n",
    "\n",
    "    Mayank Singh Tomar\n",
    "    Communication & ethics marks : 88\n",
    "    Python marks : 87\n",
    "    Linear Algebra marks : 86\n"
   ]
  },
  {
   "cell_type": "code",
   "execution_count": null,
   "metadata": {},
   "outputs": [],
   "source": [
    "dict_marks={} #created an empty list named dict_marks\n",
    "course_len=0 #assigned a variable course_len whose value is initilised to 0\n",
    "dict_marks[\"Satyam Kumar Pandey\"]=[100,99,98] #adding Satyam Kumar Pandey as key and [100,99,98] as value in dict_marks\n",
    "dict_marks[\"Pankaj Rishi\"]=[97,96,95] #adding Pankaj Rishi as key and [97,96,95] as value in dict_marks\n",
    "dict_marks[\"Nikhil Raj Shoni\"]=[94,93,92] #adding Nikhil Raj Shoni as key and [94,93,92] as value in dict_marks\n",
    "dict_marks[\"Saurabh Yadav\"]=[91,90,89] #adding Saurabh Yadav as key and [91,90,89] as value in dict_marks\n",
    "dict_marks[\"Mayank Singh Tomar\"]=[88,87,86] #adding Mayank Singh Tomar as key and [88,87,86] as value in dict_marks\n",
    "course_name=[\"Communication & ethics\",\"Python\",\"Linear Algebra\"] #created a list named course_name in which there are three subjects\n",
    "print(dict_marks,'\\n')\n",
    "\n",
    "for subject in course_name: #ittrating a for loop in course_name\n",
    "    course_len+=1 #adding course_len by 1 each time when for loop is ittrated\n",
    "for key,value in dict_marks.items(): #ittrating a for loop in dict_marks \n",
    "    print(key) \n",
    "    for i in range(course_len): #ittrating a for loop in the range of corse_len\n",
    "        subject=course_name[i] \n",
    "        marks=value[i]\n",
    "        print(subject,'marks',':',marks)\n",
    "    print(\"\\n\")"
   ]
  }
 ],
 "metadata": {
  "kernelspec": {
   "display_name": "Python 3",
   "language": "python",
   "name": "python3"
  },
  "language_info": {
   "codemirror_mode": {
    "name": "ipython",
    "version": 3
   },
   "file_extension": ".py",
   "mimetype": "text/x-python",
   "name": "python",
   "nbconvert_exporter": "python",
   "pygments_lexer": "ipython3",
   "version": "3.11.6"
  }
 },
 "nbformat": 4,
 "nbformat_minor": 2
}
