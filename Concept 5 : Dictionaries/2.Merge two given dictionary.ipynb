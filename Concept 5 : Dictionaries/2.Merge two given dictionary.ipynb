{
 "cells": [
  {
   "cell_type": "markdown",
   "metadata": {},
   "source": [
    "**Question2:**\n",
    "\n",
    "Merge these two dictionaries into one using for loop\n",
    "dict1 = {‘Ten’: 10, ‘Twenty’: 20, ‘Thirty’: 30}\n",
    "dict2 = {‘Thirty’: 30, ‘Fourty’: 40, ‘Fifty’: 50}\n",
    "\n",
    "**Logic:**\n",
    "\n",
    "First of all we will create an empty dictionarty named dict3 in which we will add all the key value pair of dict1 one by one using for loop then we will add all the key value pair of dict2 taking a condition that if key not in dict3 one by one using for loop.\n",
    " \n",
    "**Inputs and Outputs:**\n",
    "\n",
    "    Input: dict1 = {'Ten': 10, 'Twenty': 20, 'Thirty': 30}\n",
    "           dict2 = {'Thirty': 30, 'Fourty': 40, 'Fifty': 50}\n",
    "    Output: {'Ten': 10, 'Twenty': 20, 'Thirty': 30, 'Fourty': 40, 'Fifty': 50}"
   ]
  },
  {
   "cell_type": "code",
   "execution_count": null,
   "metadata": {},
   "outputs": [],
   "source": [
    "#Ist Method Without function(def)\n",
    "dict1 = {'Ten': 10, 'Twenty': 20, 'Thirty': 30} #dictionary named dict1 is given\n",
    "dict2 = {'Thirty': 30, 'Fourty': 40, 'Fifty': 50} #dictionary named dict2 is given\n",
    "dict3={} #created an empty dictionary named dict3\n",
    "for key,value in dict1.items(): #ittrating a for loop in dict1\n",
    "    dict3[key]=value #in dict3 adding key,value pair of dict1 \n",
    "for key,values in dict2.items():#ittrating a for loop in dict2\n",
    "    if key not in dict3: #checking if key not in dict3\n",
    "        dict3[key]=values #in dict3 adding key,value pair of dict2\n",
    "print(dict3) \n"
   ]
  },
  {
   "cell_type": "code",
   "execution_count": null,
   "metadata": {},
   "outputs": [],
   "source": [
    "#IInd Method With function(def)\n",
    "def dict_merge(dict1,dict2): #defined a function named dict_merge in which there are 2 arguments dict1 and dict2\n",
    "    if isinstance(dict1,dict) and isinstance(dict2,dict): #checking if both dict1 and dict2 is dict\n",
    "        dict3={} #created an empty dictionary named dict3\n",
    "        for key,value in dict1.items(): #ittrating a for loop in dict1\n",
    "            dict3[key]=value #in dict3 adding key,value pair of dict1 \n",
    "        for key,values in dict2.items():#ittrating a for loop in dict2\n",
    "            if key not in dict3: #checking if key not in dict3\n",
    "                dict3[key]=values #in dict3 adding key,value pair of dict2\n",
    "        return dict3\n",
    "    else:\n",
    "        return None\n",
    "dict_merge(dict1,dict2)"
   ]
  }
 ],
 "metadata": {
  "kernelspec": {
   "display_name": "Python 3",
   "language": "python",
   "name": "python3"
  },
  "language_info": {
   "codemirror_mode": {
    "name": "ipython",
    "version": 3
   },
   "file_extension": ".py",
   "mimetype": "text/x-python",
   "name": "python",
   "nbconvert_exporter": "python",
   "pygments_lexer": "ipython3",
   "version": "3.11.6"
  }
 },
 "nbformat": 4,
 "nbformat_minor": 2
}
