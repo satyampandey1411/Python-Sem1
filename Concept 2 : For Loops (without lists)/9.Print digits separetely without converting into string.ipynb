{
 "cells": [
  {
   "cell_type": "markdown",
   "metadata": {},
   "source": [
    "9.Given a positive integer, print each of its digits separately without converting the number into a string.\n",
    "**Question9:**\n",
    "\n",
    "Given a positive integer, print each of its digits separately without converting the number into a string.\n",
    "\n",
    "**Logic:**\n",
    "\n",
    "First of all we will check that integer is positive or not. If integer is positive then we will calculate the length of integer using math library in which the log base 10 gives the legth of integer 1 less thn the length of the integer so  we will add 1 to it to et the length of the integer. After that we will ittrate a for loop in the range of length-1 to -1 with a jump of -1 and inside for loop we will store the digits of the integer in r and also print inside the for loop. If integer is not greatr than 0 then we will simply print that the entered integer is not positive.\n",
    "\n",
    "\n",
    "**Inputs and Outputs:**\n",
    "\n",
    "    Input: 45\n",
    "    Output:4\n",
    "           5"
   ]
  },
  {
   "cell_type": "code",
   "execution_count": null,
   "metadata": {},
   "outputs": [],
   "source": [
    "integer = int(input(\"Enter the integer\")) #taking integer as input from the user\n",
    "import math #importing math library\n",
    "if integer > 0: #checking if integer is greater than 0\n",
    "    length = int(math.log10(integer) + 1) #calculating length of the integer using math library \n",
    "    for i in range(length-1,-1,-1): #ittrating a for loop in the range of length-1 to -1 with a jump of -1\n",
    "        r = (integer//10**i)%10 #storing the digits of integer in r \n",
    "        print(r)\n",
    "else:\n",
    "    print(\"entered integer is not positive\")\n",
    "\n",
    "        \n",
    "\n",
    "    "
   ]
  }
 ],
 "metadata": {
  "kernelspec": {
   "display_name": "Python 3",
   "language": "python",
   "name": "python3"
  },
  "language_info": {
   "codemirror_mode": {
    "name": "ipython",
    "version": 3
   },
   "file_extension": ".py",
   "mimetype": "text/x-python",
   "name": "python",
   "nbconvert_exporter": "python",
   "pygments_lexer": "ipython3",
   "version": "3.11.6"
  }
 },
 "nbformat": 4,
 "nbformat_minor": 2
}
