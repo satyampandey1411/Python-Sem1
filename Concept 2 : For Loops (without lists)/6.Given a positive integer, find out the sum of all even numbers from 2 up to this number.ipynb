{
 "cells": [
  {
   "cell_type": "markdown",
   "metadata": {},
   "source": [
    "**Question6:**\n",
    "\n",
    "Given a positive integer, find out the sum of all even numbers from 2 up to this number.\n",
    "\n",
    "**Logic:**\n",
    "\n",
    "We will check if the integer is greater than or equal to 2 or not. If integer is greater than or equal to 2  then we will ittrate a for loop in the range of 2 to integer+1(integer included) with a jump of 2, and assigned a variable even_summation whose value is initialised 0. Each time when for loop is ittrated the even_summation get added by i. If integer is less than 2 then will will say that even_sum is 0.\n",
    "\n",
    "    Input: 2\n",
    "    Output:2\n",
    "    Input: 5\n",
    "    Output:6\n",
    "    Input: -2\n",
    "    Output: 0"
   ]
  },
  {
   "cell_type": "code",
   "execution_count": null,
   "metadata": {},
   "outputs": [],
   "source": [
    "#Ist Method without function(def)\n",
    "integer=int(input(\"enter the integer\")) #taking integer as input from the user\n",
    "if integer>=2: #checking if integer is greater than or equal to 2\n",
    "    even_summation=0 #assigned a variable even_sum whose value is initialised to 0\n",
    "    for i in range(2,integer+1,2): #iterating a for loop in range of 2 to integer+1(integer included) with a jump of 2\n",
    "        even_summation+=i  #each time when for loop itterate even_sum get overwritten by odd_sum+i\n",
    "    print(even_summation) \n",
    "else:\n",
    "    print(\"0\")"
   ]
  },
  {
   "cell_type": "code",
   "execution_count": null,
   "metadata": {},
   "outputs": [],
   "source": [
    "#IInd Method with function(def)\n",
    "def even_sum(integer): #defining a function named even_sum\n",
    "    if isinstance(integer,int): #checking if input given in even_sum is integer\n",
    "        if integer>=2: #checking if integer is greater than or equal to 2 \n",
    "            even_summation=0 #assigned a variable even_sum whose value is initialised to 0\n",
    "            for i in range(2,integer+1,2): #iterating a for loop in range of 2 to integer+1(integer included) with a jump of 2\n",
    "                even_sum+=i  #each time when for loop itterate even_sum get overwritten by odd_sum+i\n",
    "            return even_summation\n",
    "        else:\n",
    "            return 0\n",
    "    else:\n",
    "        return None"
   ]
  }
 ],
 "metadata": {
  "language_info": {
   "name": "python"
  }
 },
 "nbformat": 4,
 "nbformat_minor": 2
}
