{
 "cells": [
  {
   "cell_type": "markdown",
   "metadata": {},
   "source": [
    "**Question4:**\n",
    "\n",
    "Given a positive integer, find out if it’s prime or not.\n",
    "\n",
    "**Logic:**\n",
    "\n",
    "We will check if the integer is positive or not. If integer is positive then we will check the number of factors in between 2 to integer part of underoot of integer+1. If factor is equal to 0 then it will be a prime integer otherwise it is not a prime integer.\n",
    "\n",
    "**Inputs and Outputs:**\n",
    "\n",
    "    Input: 5\n",
    "    Output:it is a prime number\n",
    "    Input: 4\n",
    "    Output:it is a not prime number\n",
    "    Input: -2\n",
    "    Output: entered integer is not a positive integer"
   ]
  },
  {
   "cell_type": "code",
   "execution_count": null,
   "metadata": {},
   "outputs": [],
   "source": [
    "#Ist Method without function(def)\n",
    "integer = int(input(\"enter the number\")) ##taking integer as input from the user\n",
    "if integer>0: #checking if integer is greater than 0\n",
    "    factor = 0 #assigned a variable factor whose value is initialised to 0\n",
    "    for i in range(2,int(integer**0.5)+1): #ittrating a for loop in range of 2 to integer part of underoot integer+1\n",
    "        if integer%i==0: #checking if remainder is 0 when integer is divided\n",
    "            factor+=1 #each time when for loop ittrate factor get added by 1\n",
    "    if factor==0 and integer!=1: #checking if factor is 0 and integer not equal to 1\n",
    "        print(\"it is a prime number\")\n",
    "    else:\n",
    "        print(\"it is not a prime number\")\n",
    "else:\n",
    "    print(\"entered integer is not a positive integer\")"
   ]
  },
  {
   "cell_type": "code",
   "execution_count": null,
   "metadata": {},
   "outputs": [],
   "source": [
    "#IInd Method with function(def)\n",
    "def prime_int(integer): #defining a function named prime_int\n",
    "    if isinstance(integer,int): #checking if input given in prime_int is integer\n",
    "        if integer>0: #checking if integer is greater than 0\n",
    "            factor = 0 #assigned a variable factor whose value is initialised to 0\n",
    "            for i in range(2,int(integer**0.5)+1): #ittrating a for loop in range of 2 to integer part of underoot integer+1\n",
    "                if integer%i==0: #checking if remainder is 0 when integer is divided\n",
    "                    factor+=1 #each time when for loop ittrate factor get added by 1\n",
    "            if factor==0 and integer!=1: #checking if factor is 0 and integer not equal to 1\n",
    "                return True #output is True. Which means the given integer is a prime integer\n",
    "            else:\n",
    "                return False #output is False. Which means the given integer is not a prime integer\n",
    "        else:\n",
    "            return None\n",
    "    else:\n",
    "        return None"
   ]
  }
 ],
 "metadata": {
  "kernelspec": {
   "display_name": "Python 3",
   "language": "python",
   "name": "python3"
  },
  "language_info": {
   "codemirror_mode": {
    "name": "ipython",
    "version": 3
   },
   "file_extension": ".py",
   "mimetype": "text/x-python",
   "name": "python",
   "nbconvert_exporter": "python",
   "pygments_lexer": "ipython3",
   "version": "3.11.6"
  }
 },
 "nbformat": 4,
 "nbformat_minor": 2
}
