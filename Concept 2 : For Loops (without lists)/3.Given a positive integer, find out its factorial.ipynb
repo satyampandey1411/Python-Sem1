{
 "cells": [
  {
   "cell_type": "markdown",
   "metadata": {},
   "source": [
    "**Question3:**\n",
    "\n",
    "Given a positive integer, find out its factorial.\n",
    "\n",
    "**Logic:**\n",
    "First of all we will check that the integer is positive or not and if integer is positive then we will check if integer is greater than or equal to 2 and then we are multiplying the integer from 2 upto the integer(included) to get the factorial. If integer is 1 then factorial is 1.\n",
    "\n",
    "**Inputs and Outputs:**\n",
    "\n",
    "    Input: 5\n",
    "    Output:factorial of 5 is 120\n",
    "    Input: -2\n",
    "    Output: entered integer is not a positive integer"
   ]
  },
  {
   "cell_type": "code",
   "execution_count": null,
   "metadata": {},
   "outputs": [],
   "source": [
    "#Ist Method without function(def)\n",
    "integer=int(input(\"enter the integer\")) #taking integer as input from the user\n",
    "if integer>=2:  #checking if integer is greater than or equal to 2\n",
    "    fact=1  #assigned a variable fact whose value is initialised to 1\n",
    "    for i in range(2,integer+1): #itterating a for loop in range of 2 to integer+1(integer included)\n",
    "        fact=fact*i  #each time when for loop itterate fact get overwritten by fact multiply by i \n",
    "    print(\"factorial of\",integer,\"is\",fact)\n",
    "elif integer>0: #checking if integer is greater than or equal to 0\n",
    "    print(\"factorial of\",integer,\"is\",1)\n",
    "else:\n",
    "    print(\"entered integer is not a positive integer\")"
   ]
  },
  {
   "cell_type": "code",
   "execution_count": null,
   "metadata": {},
   "outputs": [],
   "source": [
    "#IInd Method with function(def)\n",
    "def func_fact(integer):#defining a function named func_fact\n",
    "    if isinstance(integer,int): #checking if input given in func_fact is integer\n",
    "        if integer>=2:  #checking if integer is greater than or equal to 2\n",
    "            fact=1  #assigned a variable fact whose value is initialised to 1\n",
    "            for i in range(2,integer+1): #itterating a for loop in range of 2 to integer+1(integer included)\n",
    "                fact=fact*i  #each time when for loop itterate fact get overwritten by fact multiply by i \n",
    "            return fact,True #output is fact,True. Which means the output fact is true\n",
    "        elif integer>0: #checking if integer is greater than 0\n",
    "            return 1,True #output is 1,True. Which means the output is 1 which is True\n",
    "        else:\n",
    "            return 0,False #output is 0,False. Which means the output 0 is False\n",
    "    else:\n",
    "        return -1,False #output is -1,False. Which means the output -1 is False means invalid input entered"
   ]
  }
 ],
 "metadata": {
  "kernelspec": {
   "display_name": "Python 3",
   "language": "python",
   "name": "python3"
  },
  "language_info": {
   "codemirror_mode": {
    "name": "ipython",
    "version": 3
   },
   "file_extension": ".py",
   "mimetype": "text/x-python",
   "name": "python",
   "nbconvert_exporter": "python",
   "pygments_lexer": "ipython3",
   "version": "3.11.6"
  }
 },
 "nbformat": 4,
 "nbformat_minor": 2
}
