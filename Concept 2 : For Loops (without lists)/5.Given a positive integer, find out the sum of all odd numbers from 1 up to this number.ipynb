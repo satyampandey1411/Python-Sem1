{
 "cells": [
  {
   "cell_type": "markdown",
   "metadata": {},
   "source": [
    "**Question5:**\n",
    "\n",
    "Given a positive integer, find out the sum of all odd numbers from 1 up to this number.\n",
    "\n",
    "**Logic:**\n",
    "\n",
    "We will check if the integer is positive or not. If integer is positive then we will ittrate a for loop in the range of 1 to integer+1(integer included) with a jump of 2, and assigned a variable odd_summation whose value is initialised 0. Each time when for loop is ittrated the odd_summation get added by i. If integer is not positive then we will not calculate sum and say that integer is not positive.\n",
    "\n",
    "    Input: 5\n",
    "    Output:9\n",
    "    Input: 4\n",
    "    Output:4\n",
    "    Input: -2\n",
    "    Output: 0"
   ]
  },
  {
   "cell_type": "code",
   "execution_count": 3,
   "metadata": {},
   "outputs": [
    {
     "name": "stdout",
     "output_type": "stream",
     "text": [
      "9\n"
     ]
    }
   ],
   "source": [
    "#Ist Method without function(def)\n",
    "integer=int(input(\"enter the integer\")) #taking integer as input from the user\n",
    "if integer>0: #checking if integer is greater than 0\n",
    "    odd_summation=0 #assigned a variable odd_sum whose value is initialised to 0\n",
    "    for i in range(1,integer+1,2): #iterating a for loop in range of 1 to integer+1(integer included) with a jump of 2\n",
    "        odd_summation+=i  #each time when for loop itterate odd_sum get overwritten by odd_sum+i\n",
    "    print(odd_summation) \n",
    "else:\n",
    "    print(\"0\")"
   ]
  },
  {
   "cell_type": "code",
   "execution_count": null,
   "metadata": {},
   "outputs": [],
   "source": [
    "#IInd Method with function(def)\n",
    "def odd_sum(integer): #defining a function named odd_sum\n",
    "    if isinstance(integer,int): #checking if input given in odd_sum is integer\n",
    "        if integer>0: #checking if integer is greater than 0\n",
    "            odd_summation=0 #assigned a variable odd_sum whose value is initialised to 0\n",
    "            for i in range(1,integer+1,2): #iterating a for loop in range of 1 to integer+1(integer included) with a jump of 2\n",
    "                odd_sum+=i  #each time when for loop itterate odd_sum get overwritten by odd_sum+i\n",
    "            return odd_summation\n",
    "        else:\n",
    "            return 0\n",
    "    else:\n",
    "        return None"
   ]
  }
 ],
 "metadata": {
  "kernelspec": {
   "display_name": "Python 3",
   "language": "python",
   "name": "python3"
  },
  "language_info": {
   "codemirror_mode": {
    "name": "ipython",
    "version": 3
   },
   "file_extension": ".py",
   "mimetype": "text/x-python",
   "name": "python",
   "nbconvert_exporter": "python",
   "pygments_lexer": "ipython3",
   "version": "3.11.6"
  }
 },
 "nbformat": 4,
 "nbformat_minor": 2
}
