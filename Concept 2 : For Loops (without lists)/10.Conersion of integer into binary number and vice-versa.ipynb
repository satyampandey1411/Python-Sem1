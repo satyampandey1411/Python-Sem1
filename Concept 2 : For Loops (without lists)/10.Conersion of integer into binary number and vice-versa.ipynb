{
 "cells": [
  {
   "cell_type": "markdown",
   "metadata": {},
   "source": [
    "**Question10:**\n",
    "\n",
    "Given a positive integer, convert it into binary, and vice-versa.\n",
    "\n",
    "**Logic:**\n",
    "\n",
    " \n",
    "\n",
    "**Inputs and Outputs:**\n",
    "\n",
    "    Input:\n",
    "    Output:"
   ]
  },
  {
   "cell_type": "markdown",
   "metadata": {},
   "source": [
    "**Decimal number into Binary**"
   ]
  },
  {
   "cell_type": "code",
   "execution_count": null,
   "metadata": {},
   "outputs": [],
   "source": [
    "import math\n",
    "decimal_num = int(input(\"Enter a positive integer:\"))\n",
    "print(\"Binary representation of\", decimal_num, \"is:\")\n",
    "binary_num = 0\n",
    "for i in range(int(math.log2(decimal_num)) + 1):\n",
    "    binary_num += (decimal_num % 2) * (10 ** i)\n",
    "    decimal_num //= 2\n",
    "print(binary_num)"
   ]
  },
  {
   "cell_type": "markdown",
   "metadata": {},
   "source": [
    "**Binary into Decimal**"
   ]
  },
  {
   "cell_type": "code",
   "execution_count": null,
   "metadata": {},
   "outputs": [],
   "source": [
    "binary_num = input(\"Enter a binary number: \")\n",
    "print(\"Decimal representation of\", binary_num, \"is:\")\n",
    "count = 0\n",
    "for x in binary_num:\n",
    "    count += 1\n",
    "decimal_num = 0\n",
    "power = count - 1\n",
    "for digit in binary_num:\n",
    "    decimal_num += int(digit) * (2 ** power)\n",
    "    power -= 1\n",
    "print(decimal_num)"
   ]
  }
 ],
 "metadata": {
  "kernelspec": {
   "display_name": "Python 3",
   "language": "python",
   "name": "python3"
  },
  "language_info": {
   "codemirror_mode": {
    "name": "ipython",
    "version": 3
   },
   "file_extension": ".py",
   "mimetype": "text/x-python",
   "name": "python",
   "nbconvert_exporter": "python",
   "pygments_lexer": "ipython3",
   "version": "3.11.6"
  }
 },
 "nbformat": 4,
 "nbformat_minor": 2
}
