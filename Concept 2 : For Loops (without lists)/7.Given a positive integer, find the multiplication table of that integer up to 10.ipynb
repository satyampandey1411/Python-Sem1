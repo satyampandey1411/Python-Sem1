{
 "cells": [
  {
   "cell_type": "markdown",
   "metadata": {},
   "source": [
    "\n",
    "**Question7:**\n",
    "\n",
    "Given a positive integer, find the multiplication table of that integer up to 10.\n",
    "\n",
    "**Logic:**\n",
    "\n",
    "First of all we will check that integer is positive or not. If integer is positive then we will assign a variable named multiplication whos value is initialised to 1, then we will ittrate a for loop in the range of 1 to 11.Inside the for loop we will print the multiplication table as integerXi=integer*i.\n",
    "\n",
    "**Inputs and Outputs:**\n",
    "\n",
    "    Input: 2\n",
    "    Output:Multiplication Table\n",
    "            2 X 1 = 2\n",
    "            2 X 2 = 4\n",
    "            2 X 3 = 6\n",
    "            2 X 4 = 8\n",
    "            2 X 5 = 10\n",
    "            2 X 6 = 12\n",
    "            2 X 7 = 14\n",
    "            2 X 8 = 16\n",
    "            2 X 9 = 18\n",
    "            2 X 10 = 20"
   ]
  },
  {
   "cell_type": "code",
   "execution_count": null,
   "metadata": {},
   "outputs": [],
   "source": [
    "integer=int(input(\"enter the integer\")) #taking integer as input from the user\n",
    "if integer>0: #checking if integer is greater than 0\n",
    "    multiplication=1 #assined a variable named multiplication whos value is initialised to 1\n",
    "    print(\"Multiplication Table\")\n",
    "    for i in range(1,11): # ittrating a for loop in the range of 1 to 11\n",
    "        print(integer,\"X\",i,\"=\",integer*i) \n",
    "else:\n",
    "    print(\"entered integer is not a positive integer\")"
   ]
  }
 ],
 "metadata": {
  "kernelspec": {
   "display_name": "Python 3",
   "language": "python",
   "name": "python3"
  },
  "language_info": {
   "codemirror_mode": {
    "name": "ipython",
    "version": 3
   },
   "file_extension": ".py",
   "mimetype": "text/x-python",
   "name": "python",
   "nbconvert_exporter": "python",
   "pygments_lexer": "ipython3",
   "version": "3.11.6"
  }
 },
 "nbformat": 4,
 "nbformat_minor": 2
}
