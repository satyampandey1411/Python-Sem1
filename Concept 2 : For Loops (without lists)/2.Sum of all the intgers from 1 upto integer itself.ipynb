{
 "cells": [
  {
   "cell_type": "markdown",
   "metadata": {},
   "source": [
    "**Question2:**\n",
    "\n",
    "Given a positive integer, find out the sum of all integers from 1 up to this number.\n",
    "\n",
    "**Logic:**\n",
    "\n",
    "First of all we will check that the integer is positive or not and if integer is positive then we will ittrate all integers by for loop in the range of 1 to integer+1 so that integer itself get included and we have assigned a variable named summation whose value is initialised 0 and we will add i(itterator) each time in summation and outside for loop print summation.If integer is not positive then we will print that \"entered integer is not a positive integer\".\n",
    "\n",
    "**Inputs and Outputs:**\n",
    "\n",
    "    Input: 5\n",
    "    Output: summation= 15 \n",
    "    Input: -2\n",
    "    Output: entered integer is not a positive integer"
   ]
  },
  {
   "cell_type": "code",
   "execution_count": null,
   "metadata": {},
   "outputs": [],
   "source": [
    "#Ist Method without function(def)\n",
    "integer=int(input(\"enter the integer\")) #taking integer as input from the user\n",
    "if integer>0:   #checking if integer is greater than 0\n",
    "    summation=0 #assigned a variable summation whose value is initialised to 0\n",
    "    for i in range(1,integer+1): #ittrating a for loop in range of 1 to integer+1(integer included)\n",
    "        summation+=i #each time when for loop ittrate summation get added by i \n",
    "    print(\"summation=\",summation) \n",
    "else:\n",
    "    print(\"entered integer is not a positive integer\")"
   ]
  },
  {
   "cell_type": "code",
   "execution_count": null,
   "metadata": {},
   "outputs": [],
   "source": [
    "#IInd Method with function(def)\n",
    "def sum_upto_int(integer): #defining a function named sum_upto_int \n",
    "    if isinstance (integer,int):  \n",
    "        if integer>0:   #checking if integer is greater than 0\n",
    "            summation=0 #assigning a variable summation whose value is equal to 0\n",
    "            for i in range(1,integer+1): #runnig a for loop in range of 1 to integer+1(integer included)\n",
    "                summation+=i #each time when for loop run summation get added by i \n",
    "            return summation,True #output is summatin,True. Which means the output is true\n",
    "        else:\n",
    "            return 0,False #output is 0,False. Which means the output 0 is False\n",
    "    else:\n",
    "        return -1,False #output is -1,False. Which means the output -1 is False and output is not defined\n"
   ]
  }
 ],
 "metadata": {
  "kernelspec": {
   "display_name": "Python 3",
   "language": "python",
   "name": "python3"
  },
  "language_info": {
   "codemirror_mode": {
    "name": "ipython",
    "version": 3
   },
   "file_extension": ".py",
   "mimetype": "text/x-python",
   "name": "python",
   "nbconvert_exporter": "python",
   "pygments_lexer": "ipython3",
   "version": "3.11.6"
  }
 },
 "nbformat": 4,
 "nbformat_minor": 2
}
