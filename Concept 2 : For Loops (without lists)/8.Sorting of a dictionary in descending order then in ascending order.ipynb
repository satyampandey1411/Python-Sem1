{
 "cells": [
  {
   "cell_type": "markdown",
   "metadata": {},
   "source": [
    "**Question8:**\n",
    "\n",
    "Create a dictionary of your marks in various subjects and then sort it by its values first in descending order, and then in or ascending order. Do not use any inbuilt sorting functions.\n",
    "\n",
    "**Logic:**\n",
    "\n",
    "\n",
    "\n",
    "**Inputs and Outputs:**\n",
    "\n",
    "    Input:\n",
    "    Output:\n",
    "    Input:\n",
    "    Output:"
   ]
  },
  {
   "cell_type": "code",
   "execution_count": null,
   "metadata": {},
   "outputs": [],
   "source": [
    "# Sort in descending order\n",
    "my_marks_dict = {\"English\": 28, \"Python\": 29, \"Maths\": 25, \"Physics\": 29}\n",
    "list_marks_desc = list(my_marks_dict.items())\n",
    "for i in range(len(list_marks_desc)):\n",
    "    for j in range(i + 1, len(list_marks_desc)):\n",
    "        if list_marks_desc[i][1] < list_marks_desc[j][1] or (\n",
    "                list_marks_desc[i][1] == list_marks_desc[j][1] and list_marks_desc[i][0] > list_marks_desc[j][0]\n",
    "        ):\n",
    "            list_marks_desc[i], list_marks_desc[j] = list_marks_desc[j], list_marks_desc[i]\n",
    "dict_desc = {}\n",
    "for key, value in list_marks_desc:\n",
    "    dict_desc[key] = value\n",
    "\n",
    "print(\"Dictionary with marks in descending order:\", dict_desc)\n",
    "\n",
    "# Sort in ascending order\n",
    "list_marks_asc = list(my_marks_dict.items())\n",
    "for i in range(len(list_marks_asc)):\n",
    "    for j in range(i + 1, len(list_marks_asc)):\n",
    "        if list_marks_asc[i][1] > list_marks_asc[j][1] or (\n",
    "                list_marks_asc[i][1] == list_marks_asc[j][1] and list_marks_asc[i][0] > list_marks_asc[j][0]):\n",
    "            list_marks_asc[i], list_marks_asc[j] = list_marks_asc[j], list_marks_asc[i]\n",
    "dict_asc = {}\n",
    "for key, value in list_marks_asc:\n",
    "    dict_asc[key] = value\n",
    "\n",
    "print(\"Dictionary with marks in ascending order:\", dict_asc)"
   ]
  }
 ],
 "metadata": {
  "language_info": {
   "name": "python"
  }
 },
 "nbformat": 4,
 "nbformat_minor": 2
}
