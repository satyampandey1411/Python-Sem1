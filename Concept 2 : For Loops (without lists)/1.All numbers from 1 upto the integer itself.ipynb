{
 "cells": [
  {
   "cell_type": "markdown",
   "metadata": {},
   "source": [
    "**Question1:**\n",
    "\n",
    "Given a positive integer, print all integers from 1 up to this number.\n",
    "\n",
    "**Logic:**\n",
    "\n",
    "First of all we will check that the integer is positive or not and if integer is positive then we will iTtrate all integers by for loop in the range of 1 to integer+1 so that integer itself get included and we will print the \"i_nt\"(itrator) inside for loop so that each integer from 1 upto the number get printed. If integer is not positive then we will print that \"entered integer is not a positive integer\".\n",
    "\n",
    "**Inputs and Outputs:**\n",
    "\n",
    "    Input : -4\n",
    "    Output : entered integer is not a positive integer\n",
    "    Input : 2\n",
    "    Output : 1\n",
    "             2"
   ]
  },
  {
   "cell_type": "code",
   "execution_count": null,
   "metadata": {},
   "outputs": [],
   "source": [
    "integer=int(input(\"enter the integer\")) #taking value of integer as input from the user in int form\n",
    "if integer>0:   #checking if integer is greater than 0\n",
    "    for i_nt in range(1,integer+1): #itTrating a for loop in range of 1 to integer+1(integer included)\n",
    "        print(i_nt)\n",
    "else:\n",
    "    print(\"entered integer is not a positive integer\")"
   ]
  }
 ],
 "metadata": {
  "kernelspec": {
   "display_name": "Python 3",
   "language": "python",
   "name": "python3"
  },
  "language_info": {
   "codemirror_mode": {
    "name": "ipython",
    "version": 3
   },
   "file_extension": ".py",
   "mimetype": "text/x-python",
   "name": "python",
   "nbconvert_exporter": "python",
   "pygments_lexer": "ipython3",
   "version": "3.11.6"
  }
 },
 "nbformat": 4,
 "nbformat_minor": 2
}
