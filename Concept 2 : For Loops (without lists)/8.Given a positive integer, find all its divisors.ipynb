{
 "cells": [
  {
   "cell_type": "markdown",
   "metadata": {},
   "source": [
    "**Question8:**\n",
    "\n",
    "Given a positive integer, find all its divisors.\n",
    "\n",
    "**Logic:**\n",
    "\n",
    "First of all we will check that integer is positive or not. If integer is positive then we will ittrate a for loop in the range of 1 to integer+1(integer included).Inside the for we will check if remainder is 0 when integer is divided by i and if remainder is 0 then we will print it inside the for loop.\n",
    "\n",
    "**Inputs and Outputs:**\n",
    "\n",
    "    Input:4\n",
    "    Output:1\n",
    "           2\n",
    "           4"
   ]
  },
  {
   "cell_type": "code",
   "execution_count": null,
   "metadata": {},
   "outputs": [],
   "source": [
    "integer=int(input(\"enter the integer\")) #taking integer as input from the user\n",
    "if integer>0: #checking if integer is greater than 0\n",
    "    for i in range(1,integer+1): #ittrating a for loop in the range of 1 to integer+1(integer included)\n",
    "        if integer%i==0: #checking if remainder is 0 when integer is divided by i\n",
    "            print(i)\n",
    "else:\n",
    "    print(\"entered integer is not a positive integer\")"
   ]
  }
 ],
 "metadata": {
  "kernelspec": {
   "display_name": "Python 3",
   "language": "python",
   "name": "python3"
  },
  "language_info": {
   "codemirror_mode": {
    "name": "ipython",
    "version": 3
   },
   "file_extension": ".py",
   "mimetype": "text/x-python",
   "name": "python",
   "nbconvert_exporter": "python",
   "pygments_lexer": "ipython3",
   "version": "3.11.6"
  }
 },
 "nbformat": 4,
 "nbformat_minor": 2
}
