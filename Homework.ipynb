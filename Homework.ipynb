{
 "cells": [
  {
   "cell_type": "markdown",
   "metadata": {},
   "source": [
    "Given two numbers a and b, find a/b (b could be zero)."
   ]
  },
  {
   "cell_type": "code",
   "execution_count": 1,
   "metadata": {},
   "outputs": [
    {
     "name": "stdout",
     "output_type": "stream",
     "text": [
      "1.5\n"
     ]
    }
   ],
   "source": [
    "a = float(input(\"Enter the first number:\")) #Asking the first number from user\n",
    "b = float(input(\"Enter the second number:\")) #Asking the second number from user\n",
    "if (b!=0): #if b is non zero\n",
    "    print(a/b) #Giving the command to print \"(a/b)\"\n",
    "else: \n",
    "    print(\"Zero division error\") #Giving the command to print \"Zero division error\""
   ]
  },
  {
   "cell_type": "markdown",
   "metadata": {},
   "source": [
    " Given a point in 2D space, find the quadrant in which it lies. "
   ]
  },
  {
   "cell_type": "code",
   "execution_count": 22,
   "metadata": {},
   "outputs": [
    {
     "name": "stdout",
     "output_type": "stream",
     "text": [
      "lies in first quadrant:\n"
     ]
    }
   ],
   "source": [
    "a = float(input(\"Enter the x coordinate of point:\")) #Asking x coordinate of point from user \n",
    "b = float(input(\"Enter the y coordinate of point:\")) #Asking y coordinate of point from user\n",
    "if(a>0 and b>0): #if a is greater than zero and b is greater than zero\n",
    "    print(\"lies in first quadrant:\") #Giving the command to print \"lies in first quadrant\"\n",
    "elif (a<0 and b>0): #if a is less than zero and b is greater than zero\n",
    "    print(\"lies in second quadrant:\") #Giving the command to print \"lies in second quadrant\"\n",
    "elif (a<0 and b<0): #if a is less than zero and b is less than zero\n",
    "    print(\"lies in third quadrant:\") #Giving the command to print \"lies in third quadrant\"\n",
    "elif (a>0 and b<0): #if a is greater than zero and b is less than zero\n",
    "    print(\"lies in fourth quadrant:\") #Giving the command to print \"lies in fourth quadrant\"\n",
    "elif (a==0 and b>0): #if a is equal to zero and b is greater than zero\n",
    "    print(\"lies in positive y axis:\") #Giving the command to print \"lies in positive y axis\"\n",
    "elif (a==0 and b<0): #if a is equal to zero and b is less than zero\n",
    "    print(\"lies in negative y axis:\") #Giving the command to print \"lies in negative y axis\"\n",
    "elif (a>0 and b==0): #if a is greater than zero and b is equal to zero\n",
    "    print(\"lies in positive x axis:\") #Giving the command to print \"lies in positive x axis\"\n",
    "elif (a<0 and b==0): #if a is less than zero and b is equal to zero\n",
    "    print(\"lies in negative x axis:\") #Giving the command to print \"lies in negative x axis\"\n",
    "else:\n",
    "    print(\"lies in origin:\") #Giving the command to print \"lies in origin\""
   ]
  },
  {
   "cell_type": "markdown",
   "metadata": {},
   "source": [
    "Given two points in 2D space, find the slope and y- intercept of the line joining them.Consider all cases."
   ]
  },
  {
   "cell_type": "code",
   "execution_count": 64,
   "metadata": {},
   "outputs": [
    {
     "name": "stdout",
     "output_type": "stream",
     "text": [
      "slope & intercept not defined\n"
     ]
    }
   ],
   "source": [
    "x1 = float(input(\"Enter the x coordinate of first point:\")) #Asking x coordinate of first point from user\n",
    "x2 = float(input(\"Enter the x coordinate of second point:\")) #Asking x coordinate of second point from user\n",
    "y1 = float(input(\"Enter the y coordinate of first point:\")) #Asking y coordinate of first point from user\n",
    "y2 = float(input(\"Enter the y coordinate of second point:\")) #Asking y coordinate of second point from user\n",
    "if x2-x1==0: #if difference between x coordinate of both point equal to zero\n",
    "    print(\"slope & intercept not defined\") #Giving command to print \"slope & intercept not defined\"\n",
    "else:\n",
    "    m = (y2-y1)/(x2-x1) #m = slope = (y2-y1)/(x2-x1), finding the value of slope\n",
    "    print(\"m =\",m) #Giving command to print the \"value of slope(m)\"\n",
    "    c = y1-m*x1 #c = intercept , finding the value of intercept\n",
    "    print(\"c =\",c) #Giving command to print the \"value of intercipt(c)\""
   ]
  },
  {
   "cell_type": "markdown",
   "metadata": {},
   "source": [
    "Given a temperature in fahrneheit, convert it to celcius.If the temperature is below 10 degree celcius output cold, between 10 and 25 output pleasant, between 25 and 35 output warm, and above 35 output hot."
   ]
  },
  {
   "cell_type": "code",
   "execution_count": 36,
   "metadata": {},
   "outputs": [
    {
     "name": "stdout",
     "output_type": "stream",
     "text": [
      "hot\n"
     ]
    }
   ],
   "source": [
    "F = float(input(\"Enter the temperature in fahrenheit\")) #Asking temperature in fahrenheit from user \n",
    "C = (F-32)*(5/9) #Applying the formula to convert fahrenheit into celcius\n",
    "if (C<=10): #if C is less than or equal to 10\n",
    "    print(\"cold\") #Giving the command to print \"cold\"\n",
    "elif (C>10 and C<=25): #if C is greater than 10 and less than or equal to 25\n",
    "    print(\"pleasant\") #Giving the command to print \"pleasant\"\n",
    "elif (C>25 and C<=35): #if C is greater than 25 and less than or equal to 35\n",
    "    print(\"warm\") #Giving the command to print \"warm\"\n",
    "elif (C>35): #if C is greater than 35\n",
    "    print(\"hot\") #Giving the command to print \"hot\""
   ]
  },
  {
   "cell_type": "markdown",
   "metadata": {},
   "source": [
    "Given a quadratic equation with coefficients a, b & c, find the two solutions (may be real or complex).You should not take the square root of a negative number in your code."
   ]
  },
  {
   "cell_type": "code",
   "execution_count": 52,
   "metadata": {},
   "outputs": [
    {
     "name": "stdout",
     "output_type": "stream",
     "text": [
      "1.0 x**2+ -5.0 x+ 6.0\n",
      "both the roots are real and distinct 2.0 & 3.0\n"
     ]
    }
   ],
   "source": [
    "a = float(input(\"Enter the value of a\")) #Asking the value of a from the user\n",
    "b = float(input(\"Enter the value of b\")) #Asking the value of b from the user\n",
    "c = float(input(\"Enter the value of \")) #Asking the value of c from the user\n",
    "D = (b*b - 4*a*c) #D is disciminant, which is equal to \"b*b - 4*a*c\"\n",
    "print(a,\"x**2+\",(b),\"x+\",c)\n",
    "if D<0:\n",
    "    print(\"both the roots are imaginary\")\n",
    "elif D == 0:\n",
    "    print(\"both the roots are real & equal to\", (-b+D**(1/2))/2*a)\n",
    "else:\n",
    "    print(\"both the roots are real and distinct\", (-b-D**(1/2))/2*a  ,\"&\", (-b+D**(1/2))/2*a)"
   ]
  },
  {
   "cell_type": "markdown",
   "metadata": {},
   "source": [
    "Given three points, find out wheather they lie on the same straight line or not"
   ]
  },
  {
   "cell_type": "code",
   "execution_count": 55,
   "metadata": {},
   "outputs": [
    {
     "name": "stdout",
     "output_type": "stream",
     "text": [
      "all the three points lies in the same straight line\n"
     ]
    }
   ],
   "source": [
    "x1 = float(input(\"Enter the x coordinate of first point\")) #Asking the x coordinate of first point from the user \n",
    "y1 = float(input(\"Enter the x coordinate of first point\")) #Asking the y coordinate of first point from the user\n",
    "x2 = float(input(\"Enter the x coordinate of first point\")) #Asking the x coordinate of second point from the user\n",
    "y2 = float(input(\"Enter the x coordinate of first point\")) #Asking the y coordinate of second point from the user\n",
    "x3 = float(input(\"Enter the x coordinate of first point\")) #Asking the x coordinate of third point from the user\n",
    "y3 = float(input(\"Enter the x coordinate of first point\")) #Asking the y coordinate of third point from the user\n",
    "if ((y2-y1)/(x2-x1)==(y3-y2)/(x3-x2)): #if slope of first two points equal to slope of last two points \n",
    "    print(\"all the three points lies in the same straight line\") #Giving the command to print \"all the three points lies in the same straight line\"\n",
    "else:\n",
    "    print(\"all the three points are not lying in the same straight line\") #Giving the command to print \"all the three points are not lying in the same straight line\""
   ]
  }
 ],
 "metadata": {
  "kernelspec": {
   "display_name": "Python 3",
   "language": "python",
   "name": "python3"
  },
  "language_info": {
   "codemirror_mode": {
    "name": "ipython",
    "version": 3
   },
   "file_extension": ".py",
   "mimetype": "text/x-python",
   "name": "python",
   "nbconvert_exporter": "python",
   "pygments_lexer": "ipython3",
   "version": "3.11.5"
  },
  "orig_nbformat": 4
 },
 "nbformat": 4,
 "nbformat_minor": 2
}
