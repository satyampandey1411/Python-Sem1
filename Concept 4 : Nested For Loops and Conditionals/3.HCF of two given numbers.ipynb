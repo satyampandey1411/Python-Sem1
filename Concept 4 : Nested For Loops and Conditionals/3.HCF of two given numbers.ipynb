{
 "cells": [
  {
   "cell_type": "markdown",
   "metadata": {},
   "source": [
    "**Question3:**\n",
    "\n",
    "Given two integers, find its Greatest Common Divisor.\n",
    "\n",
    "**Logic:**\n",
    "\n",
    "We will calculate the GCD of positive no only. By using if and else codition we will find the smaller no and then We will assign a variable named GCD =1 and then we will calculate the GCD by using for loop in the range 1 to smaller then we continuously check the greatest i which divide both int1 and int2 and that will become our GCD.\n",
    "\n",
    "**Inputs and Outputs:**\n",
    "\n",
    "    Input: int1=4 and int2=14\n",
    "    Output: GCD=2\n",
    "    Input: int1=3 and int2=6\n",
    "    Output: GCD=3"
   ]
  },
  {
   "cell_type": "code",
   "execution_count": 4,
   "metadata": {},
   "outputs": [
    {
     "name": "stdout",
     "output_type": "stream",
     "text": [
      "GCD= 2\n"
     ]
    }
   ],
   "source": [
    "#Ist Method without function(def)\n",
    "int1=int(input(\"enter the value of int1\")) #taking value of int1 from the user\n",
    "int2=int(input(\"enter the value of int2\")) #taking value of int2 from the user\n",
    "if int1>0 and int2>0: #checking if int1 and int2 are grater than 0\n",
    "    if int1<int2: #checking if int1 is lesser than int2\n",
    "        smaller=int1\n",
    "    else:\n",
    "        smaller=int2\n",
    "    for i in range(1,smaller+1): #ittrating a for loop in the range of 1 to smaller\n",
    "        if int1%i==0 and int2%i==0:#checking if remainder when i is divided by int1 and int2 come out 0\n",
    "            GCD=i #GCD will be overwritten every times when for loop is ittrated\n",
    "    print(\"GCD=\",GCD)\n",
    "else:\n",
    "    print(\"entered integers are not positive\")"
   ]
  },
  {
   "cell_type": "code",
   "execution_count": null,
   "metadata": {},
   "outputs": [],
   "source": [
    "#IInd Method With function(def)\n",
    "def func_GCD(int1,int2): #defined a function named func_GCD in which there are two arguments int1,int2\n",
    "    if isinstance(int1,int) and isinstance(int2,int): #checking if both int1 and int2 is integer\n",
    "        if int1>0 and int2>0: #checking if int1 and int2 are grater than 0\n",
    "            if int1<int2: #checking if int1 is lesser than int2\n",
    "                smaller=int1\n",
    "            else: \n",
    "                smaller=int2\n",
    "            for i in range(1,smaller+1): #iterating a for loop in the range of 1 to smaller\n",
    "                if int1%i==0 and int2%i==0:#checking if remainder when i is divided by int1 and int2 come out 0\n",
    "                    GCD=i #GCD will be overwritten every times when for loop is ittrated\n",
    "            return GCD\n",
    "        else:\n",
    "            return None\n",
    "    else:\n",
    "        return None"
   ]
  }
 ],
 "metadata": {
  "kernelspec": {
   "display_name": "Python 3",
   "language": "python",
   "name": "python3"
  },
  "language_info": {
   "codemirror_mode": {
    "name": "ipython",
    "version": 3
   },
   "file_extension": ".py",
   "mimetype": "text/x-python",
   "name": "python",
   "nbconvert_exporter": "python",
   "pygments_lexer": "ipython3",
   "version": "3.11.6"
  }
 },
 "nbformat": 4,
 "nbformat_minor": 2
}
