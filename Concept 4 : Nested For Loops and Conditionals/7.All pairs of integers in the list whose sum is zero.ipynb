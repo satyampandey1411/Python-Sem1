{
 "cells": [
  {
   "cell_type": "markdown",
   "metadata": {},
   "source": [
    "**Question7:**\n",
    "\n",
    "Given a list of integers, find all pairs of integers in the list whose sum is zero.\n",
    "\n",
    "**Logic:**\n",
    "\n",
    "**Assumption:** There is no duplicate elements in the list\n",
    "\n",
    "We will first create two different list in one we will store positive no and in other we will store negative no and then we will create another list in which we will store those pair whose sum become zero and then print the pair_sum_list.\n",
    "\n",
    "\n",
    "**Inputs and Outputs:**\n",
    "\n",
    "    Input: [2,3,-4,-3,-2,0,8,6,9]\n",
    "    Output: [(2, -2), (3, -3)]"
   ]
  },
  {
   "cell_type": "code",
   "execution_count": null,
   "metadata": {},
   "outputs": [],
   "source": [
    "#Ist Method Without function(def)\n",
    "list_num=[2,3,-4,-3,-2,0,8,6,9] #a list named list_num is given\n",
    "list_pos=[] #created an empty list named list_pos\n",
    "list_neg=[] #created an empty list named list_neg\n",
    "pair_sum_zero=[] #created an empty list named pair_sum_zero\n",
    "for num in list_num: #ittrating a for loop in the list_num\n",
    "    if num>0: #checking if num is greater than 0\n",
    "        list_pos.append(num) #appending num in the list_pos\n",
    "    elif num<0: #checking if num is lesser than 0\n",
    "        list_neg.append(num) #appending num in the list_neg\n",
    "for pos_num in list_pos: #ittrating a for loop in the list_pos\n",
    "    for neg_num in list_neg: #ittrating a for loop in the list_neg\n",
    "        if pos_num==-neg_num: #checking if pos_num equal o negative of neg_num\n",
    "            pair_sum_zero.append((pos_num,neg_num)) #appending (pos_num,neg_num) in pair_sum_zero\n",
    "print(\"Pair of integers whose sum is zero =\",pair_sum_zero)"
   ]
  },
  {
   "cell_type": "code",
   "execution_count": null,
   "metadata": {},
   "outputs": [],
   "source": [
    "#IInd Method With function(def)\n",
    "def pair_sum_zero(list_num): #defined a function named pair_sum_zero\n",
    "    if isinstance(list_num,list): #checking if input in pair_sum_zero is a list\n",
    "        list_pos=[] #created an empty list named list_pos\n",
    "        list_neg=[] #created an empty list named list_neg\n",
    "        pair_sum_zero=[] #created an empty list named pair_sum_zero\n",
    "        for num in list_num: #ittrating a for loop in the list_num\n",
    "            if num>0: #checking if num is greater than 0\n",
    "                list_pos.append(num) #appending num in the list_pos\n",
    "            elif num<0: #checking if num is lesser than 0\n",
    "                list_neg.append(num) #appending num in the list_neg\n",
    "        for pos_num in list_pos: #ittrating a for loop in the list_pos\n",
    "            for neg_num in list_neg: #ittrating a for loop in the list_neg\n",
    "                if pos_num==-1*neg_num: #checking if pos_num equal o negative of neg_num\n",
    "                    if (pos_num,neg_num) not in pair_sum_zero: #checking if (pos_num,neg_num) not in pair_sum_zero\n",
    "                        pair_sum_zero.append((pos_num,neg_num)) #appending (pos_num,neg_num) in pair_sum_zero\n",
    "        return pair_sum_zero\n",
    "    else:\n",
    "        return None\n",
    "pair_sum_zero([2,3,-4,-3,-2,0,8,6,9])"
   ]
  }
 ],
 "metadata": {
  "kernelspec": {
   "display_name": "Python 3",
   "language": "python",
   "name": "python3"
  },
  "language_info": {
   "codemirror_mode": {
    "name": "ipython",
    "version": 3
   },
   "file_extension": ".py",
   "mimetype": "text/x-python",
   "name": "python",
   "nbconvert_exporter": "python",
   "pygments_lexer": "ipython3",
   "version": "3.11.6"
  }
 },
 "nbformat": 4,
 "nbformat_minor": 2
}
