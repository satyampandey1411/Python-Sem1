{
 "cells": [
  {
   "cell_type": "markdown",
   "metadata": {},
   "source": [
    "**Question4:**\n",
    "\n",
    "Given a positive integer, find out all prime numbers from 1 up to this number.\n",
    "\n",
    "**Logic:**\n",
    "\n",
    "First of all we will find if the integer is greater than or equal to 2. If integer is greater than or equal to 2 then we will ittrate a for loop in the range 2 to integer+1(integer included). Then we will assign a variable named factor whose value is initialised to 0. Then again we will ittrate a for loop inside the for loop to find whether the i is a prime integer or not . We will ittrate the for loop in the range 2 to integer part of underroot i +1. If factor is zero then we will print those integers as the prime no in between 2 and the integer.\n",
    "\n",
    "**Inputs and Outputs:**\n",
    "\n",
    "    Input: 2\n",
    "    Output:2\n",
    "    Input: 1\n",
    "    Output:no prime no present upto the integer"
   ]
  },
  {
   "cell_type": "code",
   "execution_count": 1,
   "metadata": {},
   "outputs": [
    {
     "name": "stdout",
     "output_type": "stream",
     "text": [
      "no prime no present upto the integer\n"
     ]
    }
   ],
   "source": [
    "integer=int(input(\"enter the integer\")) #taking integer as input from the user\n",
    "if integer>=2: #checking if integer is greater than or equal to 2\n",
    "    for i in range(2,integer+1): #iterating a for loop in the range 2 to integer+1(integer included )\n",
    "        factor=0 #assigned a variable named factor whose value is initialised to 0\n",
    "        for j in range(2,int(i**0.5)+1): #iterating a for loop in the range 2 to integer part of underoot i+1\n",
    "            if i%j==0: #checking if remainder is 0 when i is divided by j\n",
    "                factor+=1 #factor get added by 1 as for loop iterate\n",
    "        if factor==0: #checking if factor is 0\n",
    "            print(i) \n",
    "else:\n",
    "    print(\"no prime no present upto the integer\")"
   ]
  }
 ],
 "metadata": {
  "kernelspec": {
   "display_name": "Python 3",
   "language": "python",
   "name": "python3"
  },
  "language_info": {
   "codemirror_mode": {
    "name": "ipython",
    "version": 3
   },
   "file_extension": ".py",
   "mimetype": "text/x-python",
   "name": "python",
   "nbconvert_exporter": "python",
   "pygments_lexer": "ipython3",
   "version": "3.11.6"
  }
 },
 "nbformat": 4,
 "nbformat_minor": 2
}
