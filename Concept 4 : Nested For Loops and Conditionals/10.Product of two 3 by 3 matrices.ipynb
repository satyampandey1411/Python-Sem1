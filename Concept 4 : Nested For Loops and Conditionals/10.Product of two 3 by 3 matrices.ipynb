{
 "cells": [
  {
   "cell_type": "markdown",
   "metadata": {},
   "source": [
    "**Question10:**\n",
    "\n",
    "Given two 3x3 matrices with values stored in two lists of length 9, find their product.\n",
    "\n",
    "\n",
    "**Logic:**\n",
    "\n",
    "We have given two mitrix with a length of 9, so we will consider first three elements of the list as 1st row and the next three as 2nd and last three as 3rd row. We have calculated the matrix multiplication of (mat1 X mat2) by taking one row from the mat1 and multiplying it with a column of mat2 and adding corresponding multiplications inside these 3 multiplications. Every row of mat1 is multiplied by all three different columns of mat2. Just reversing the way we get the mat2 X mat1.\n",
    "\n",
    "\n",
    "**Inputs and Outputs:**\n",
    "\n",
    "    Input:mat1=[1, 2, 3, 4, 5, 6, 2, 3, 4] and mat2=[3, 2, 1, 6, 5, 3, 4, 4, 3]\n",
    "    Output: mat1Xmat2= [27, 24, 16, 66, 57, 37, 40, 35, 23]\n",
    "            mat2Xmat1= [13, 19, 25, 32, 46, 60, 26, 37, 48]"
   ]
  },
  {
   "cell_type": "code",
   "execution_count": null,
   "metadata": {},
   "outputs": [],
   "source": [
    "#Ist Method Without function(def)\n",
    "mat1=[1, 2, 3,  #matrix1 in the form of a sigle list in which there are 9 elements\n",
    "      4, 5, 6,\n",
    "      2, 3, 4]\n",
    "mat2=[3, 2, 1,  #matrix2 in the form of a sigle list in which there are 9 elements\n",
    "      6, 5, 3,\n",
    "      4, 4, 3]\n",
    "product_mat1_mat2=[] #created a empty list with the name product_mat1_mat2\n",
    "product_mat2_mat1=[] #created a empty list with the name product_mat2_mat1\n",
    "for i in range(3):  #ittrating for loop in the range 3 with i as ittrator.\n",
    "    for j in range(3): #ittrating for loop in the range 3 with j as ittrator\n",
    "        result12 = 0 #variable result12 is assigned value of 0\n",
    "        result21 = 0 #variable result21 is assigned value of 0\n",
    "        for k in range(3): #ittrating for loop in the range 3 with k as ittrator.\n",
    "            result12 += mat1[i*3+k] * mat2[k*3+j] #result12 get added 3 times as the for loop of k ittrated \n",
    "            result21 += mat2[i*3+k] * mat1[k*3+j] #result21 get added 3 times as the for loop of k ittrated\n",
    "        product_mat1_mat2.append(result12) #adding the value of result12 in product_mat1_mat2 each time when the for loop of k ends\n",
    "        product_mat2_mat1.append(result21) #adding the value of result21 in product_mat1_mat2 each time when the for loop of k ends\n",
    "print(\"mat1Xmat2=\",product_mat1_mat2)\n",
    "print(\"mat2Xmat1=\",product_mat2_mat1)"
   ]
  },
  {
   "cell_type": "code",
   "execution_count": null,
   "metadata": {},
   "outputs": [],
   "source": [
    "#IInd Method With function(def)\n",
    "def mat_multiplication(mat1,mat2): #defining a function named mat_multiplication in which there are two arguents mat1 and mat2\n",
    "    if len(mat1)==len(mat2)==9:\n",
    "        product_mat1_mat2=[] #created a empty list with the name product_mat1_mat2\n",
    "        product_mat2_mat1=[] #created a empty list with the name product_mat1_mat2\n",
    "        for i in range(3):  #ittrating for loop in the range 3 with i as ittrator.\n",
    "            for j in range(3): #ittrating for loop in the range 3 with j as ittrator\n",
    "                result12 = 0 #variable result12 is assigned value of 0\n",
    "                result21 = 0 #variable result21 is assigned value of 0\n",
    "                for k in range(3): #ittrating for loop in the range 3 with k as ittrator.\n",
    "                    result12 += mat1[i*3+k] * mat2[k*3+j] #result12 get added 3 times as the for loop of k ittrated \n",
    "                    result21 += mat2[i*3+k] * mat1[k*3+j] #result21 get added 3 times as the for loop of k ittrated\n",
    "                product_mat1_mat2.append(result12) #adding the value of result12 in product_mat1_mat2 each time when the for loop of k ends\n",
    "                product_mat2_mat1.append(result21) #adding the value of result21 in product_mat1_mat2 each time when the for loop of k ends\n",
    "        return product_mat1_mat2,product_mat2_mat1"
   ]
  }
 ],
 "metadata": {
  "kernelspec": {
   "display_name": "Python 3",
   "language": "python",
   "name": "python3"
  },
  "language_info": {
   "codemirror_mode": {
    "name": "ipython",
    "version": 3
   },
   "file_extension": ".py",
   "mimetype": "text/x-python",
   "name": "python",
   "nbconvert_exporter": "python",
   "pygments_lexer": "ipython3",
   "version": "3.11.6"
  }
 },
 "nbformat": 4,
 "nbformat_minor": 2
}
