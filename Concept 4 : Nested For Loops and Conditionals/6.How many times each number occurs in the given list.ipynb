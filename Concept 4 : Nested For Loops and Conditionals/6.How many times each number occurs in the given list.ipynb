{
 "cells": [
  {
   "cell_type": "markdown",
   "metadata": {},
   "source": [
    "**Question6:**\n",
    "\n",
    "Given a list of numbers, find out how many times each number occurs in the list.\n",
    "\n",
    "**Logic:**\n",
    "\n",
    "We will first create a list of unique numbers named list_unique and then we will select a no from unique list and check the no of times the same no present in the list_num and also print them.\n",
    "\n",
    "**Inputs and Outputs:**\n",
    "\n",
    "    Input: [1,1,2,3,3,3,3]\n",
    "    Output:1 occurs 2 times\n",
    "           2 occurs 1 times\n",
    "           3 occurs 4 times"
   ]
  },
  {
   "cell_type": "code",
   "execution_count": 1,
   "metadata": {},
   "outputs": [
    {
     "name": "stdout",
     "output_type": "stream",
     "text": [
      "1 occurs 2 times\n",
      "2 occurs 1 times\n",
      "3 occurs 4 times\n"
     ]
    }
   ],
   "source": [
    "list_num=[1,1,2,3,3,3,3] #a list named list_num is given\n",
    "list_unique=[] #created an empty list named list_unique\n",
    "for num in list_num: #ittrating a for loop in the list_num\n",
    "    if num not in list_unique: #checking if num not in list_unique\n",
    "        list_unique.append(num) #appending num in the list_unique\n",
    "for x in list_unique: #ittrating a for loop in the list_unique\n",
    "    count=0 #assigned a variable named count whose value is initialised to 0\n",
    "    for j in list_num: #ittrating a for loop in the list_num\n",
    "        if j == x: #checking if j is equal to x\n",
    "            count += 1 #count get added by 1 as for loop ittrate\n",
    "    print(x ,\"occurs\",count,\"times\")\n"
   ]
  }
 ],
 "metadata": {
  "kernelspec": {
   "display_name": "Python 3",
   "language": "python",
   "name": "python3"
  },
  "language_info": {
   "codemirror_mode": {
    "name": "ipython",
    "version": 3
   },
   "file_extension": ".py",
   "mimetype": "text/x-python",
   "name": "python",
   "nbconvert_exporter": "python",
   "pygments_lexer": "ipython3",
   "version": "3.11.6"
  }
 },
 "nbformat": 4,
 "nbformat_minor": 2
}
