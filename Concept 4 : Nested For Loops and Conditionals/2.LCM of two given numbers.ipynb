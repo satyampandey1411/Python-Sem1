{
 "cells": [
  {
   "cell_type": "markdown",
   "metadata": {},
   "source": [
    "**Question2:**\n",
    "\n",
    "Given two integers, find its Least Common Multiple (LCM).\n",
    "\n",
    "**Logic:**\n",
    "\n",
    "We will calculate the LCM of positive no only. By using if and else codition we will find the larger no and then We will assign a variable named LCM =1 and then we will calcute the LCM by using for loop in the range int1 multipled int2 to larger-1 with a back jump of larger. And then we Will print the LCM as LCM*i at the last.\n",
    "\n",
    "\n",
    "**Inputs and Outputs:**\n",
    "\n",
    "    Input: int1=4 and int2=14\n",
    "    Output: LCM=28\n",
    "    Input: int1=3 and int2=6\n",
    "    Output: lCM=6"
   ]
  },
  {
   "cell_type": "code",
   "execution_count": null,
   "metadata": {},
   "outputs": [],
   "source": [
    "#Ist Method without function(def)\n",
    "int1=int(input(\"enter the value of int1\")) #taking value of int1 from the user\n",
    "int2=int(input(\"enter the value of int2\")) #taking value of int2 from the user\n",
    "if int1>0 and int2>0: #checking if both int1 and int2 are grater than 0\n",
    "    if int1>int2: #checking if int1 is greater than int2\n",
    "        larger=int1 #larger is equal to int1\n",
    "    else: \n",
    "        larger=int2 #larger is equal to int2\n",
    "    for i in range(int1*int2,larger-1,-1*larger): #ittrating a for loop in the range of int1*int2 to larger-1 \n",
    "        #with a backword jump of larger\n",
    "        if i%int1==0 and i%int2==0:#checking if remainder when i is divided by int1 and int2 come out 0\n",
    "            LCM=i #LCM will be overwritten every times when for loop is ittrated\n",
    "    print(\"LCM=\",LCM)\n",
    "else:\n",
    "    print(\"entered integers are not positive\")"
   ]
  },
  {
   "cell_type": "code",
   "execution_count": 9,
   "metadata": {},
   "outputs": [
    {
     "data": {
      "text/plain": [
       "12"
      ]
     },
     "execution_count": 9,
     "metadata": {},
     "output_type": "execute_result"
    }
   ],
   "source": [
    "#IInd Method with function(def)\n",
    "def func_LCM(int1,int2): #defined a function named func_LCM\n",
    "    if isinstance(int1,int) and isinstance(int2,int): #checking if both int1 and int2 is integer\n",
    "        if int1>0 and int2>0: #checking if both int1 and int2 is grater than 0\n",
    "            if int1>int2: #checking if int1 is greater than int2\n",
    "                larger=int1 #larger is equal to int1\n",
    "            else:\n",
    "                larger=int2 #larger is equal to int2\n",
    "            for i in range(larger,(int1*int2)+1,larger): #iterating a for loop in the range of int1*int2 to \n",
    "            #larger-1 with a jump of larger\n",
    "                if i%int1==0 and i%int2==0:#checking if remainder when i is divided by int1 and int2 come out 0\n",
    "                    return i \n",
    "        else:\n",
    "            return None\n",
    "    else:\n",
    "        return None"
   ]
  }
 ],
 "metadata": {
  "kernelspec": {
   "display_name": "Python 3",
   "language": "python",
   "name": "python3"
  },
  "language_info": {
   "codemirror_mode": {
    "name": "ipython",
    "version": 3
   },
   "file_extension": ".py",
   "mimetype": "text/x-python",
   "name": "python",
   "nbconvert_exporter": "python",
   "pygments_lexer": "ipython3",
   "version": "3.11.6"
  }
 },
 "nbformat": 4,
 "nbformat_minor": 2
}
