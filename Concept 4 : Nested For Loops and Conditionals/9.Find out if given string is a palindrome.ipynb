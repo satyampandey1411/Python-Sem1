{
 "cells": [
  {
   "cell_type": "markdown",
   "metadata": {},
   "source": [
    "**Question9:**\n",
    "\n",
    "Given a string input, find out if it’s a palindrome.\n",
    "\n",
    "\n",
    "**Logic:**\n",
    "\n",
    "We are storing the alphanumeric letters in palin_check without adding any other character then we will check if the reverse of palin_check is equal to the original palin_check and if they are same then the given string will be called as palindrome otherwise not.\n",
    "\n",
    "**Inputs and Outputs:**\n",
    "\n",
    "    Input: 'satyam may Tas'\n",
    "    Output: True\n",
    "    Input: satyam\n",
    "    Output: False"
   ]
  },
  {
   "cell_type": "code",
   "execution_count": null,
   "metadata": {},
   "outputs": [],
   "source": [
    "def is_palindrome(string1): #defined a function named is_palindrome\n",
    "    if isinstance(string1,str): #checking if input given in is_palindrome is str\n",
    "        palin_check='' #created an empty string named palin_check\n",
    "        palin_lower=string1.lower() #storing the sting1 string in palin_lower after doing string1 in lower case\n",
    "        for i in palin_lower: #ittrating a for loop in palin_lower\n",
    "            if 'a'<=i<='z' or '0'<=i<='9': #checking if i is in between 'a' to 'z' or '0' to '9'\n",
    "                palin_check+=i #adding i in palin_check each time when for loop is ittrated\n",
    "        rev_palin=palin_check[::-1] #storing the palin_check string in reverse form in rev_palin\n",
    "        if palin_check==rev_palin: #checking if palin_check is equal to rev_palin\n",
    "            return True \n",
    "        else:\n",
    "            return False\n",
    "    else:\n",
    "        return None\n",
    "is_palindrome('satyam may Tas')"
   ]
  }
 ],
 "metadata": {
  "kernelspec": {
   "display_name": "Python 3",
   "language": "python",
   "name": "python3"
  },
  "language_info": {
   "codemirror_mode": {
    "name": "ipython",
    "version": 3
   },
   "file_extension": ".py",
   "mimetype": "text/x-python",
   "name": "python",
   "nbconvert_exporter": "python",
   "pygments_lexer": "ipython3",
   "version": "3.11.6"
  }
 },
 "nbformat": 4,
 "nbformat_minor": 2
}
