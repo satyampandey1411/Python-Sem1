{
 "cells": [
  {
   "cell_type": "markdown",
   "metadata": {},
   "source": [
    "**Question1:**\n",
    "\n",
    "Given a list of positive integers, find the factorial of all the numbers.\n",
    "\n",
    "**Logic:**\n",
    "\n",
    "We will calculate the factorial of all the elements of the list one by one by using for loop and append them in the list named list_int_fact. \n",
    "\n",
    "**Inputs and Outputs:**\n",
    "\n",
    "    Input:[1,2,3,4,5]\n",
    "    Output:[1,2,6,24,120]"
   ]
  },
  {
   "cell_type": "code",
   "execution_count": null,
   "metadata": {},
   "outputs": [],
   "source": [
    "#Ist Method without function(def)\n",
    "list_int=[1,2,3,4,5] #a list of positive integers named list_int is given\n",
    "list_int_fact=[] #created an empty list named list_int_fact\n",
    "for i in list_int: #ittrating a for loop in the list_int\n",
    "    fact=1 #a variable fact is assigned whose value is initialised to 1\n",
    "    if i>0: #checking if i is greater than or equal to 2\n",
    "        for i in range(2,i+1): #ittrating a for loop in the range of 2 to i+1(i included)\n",
    "            fact=fact*i #fact is overwritten by fact multiply by i when for loop is ittrated\n",
    "        list_int_fact.append(fact) #appending fact in the list named list_int_fact\n",
    "print(\"list of factorial of numbers in the list=\",list_int_fact)"
   ]
  },
  {
   "cell_type": "code",
   "execution_count": null,
   "metadata": {},
   "outputs": [],
   "source": [
    "#IInd Method With funtion(def)\n",
    "def list_fact(listin): #defining a function named list_fact in which there is a list as input\n",
    "    if isinstance(listin,list): #checking if listin is list\n",
    "        list_int_fact=[] #created an empty list named list_int_fact\n",
    "        for i in list_int: #ittrating a for loop in the list_int\n",
    "            fact=1 #a variable fact is assigned whose value is initialised to 0 \n",
    "            if i>0: #checking if i is greater than or equal to 2\n",
    "                for i in range(2,i+1): #ittrating a for loop in the range of 2 to i+1(i included)\n",
    "                    fact=fact*i #fact is overwritten by fact multiply by i when for is ittrated\n",
    "                list_int_fact.append(fact) #appending fact in the list named list_int_fact\n",
    "        return list_int_fact #returning the list_int_fact which is a list of factorials of the integers\n",
    "    else:\n",
    "        return None     "
   ]
  }
 ],
 "metadata": {
  "kernelspec": {
   "display_name": "Python 3",
   "language": "python",
   "name": "python3"
  },
  "language_info": {
   "codemirror_mode": {
    "name": "ipython",
    "version": 3
   },
   "file_extension": ".py",
   "mimetype": "text/x-python",
   "name": "python",
   "nbconvert_exporter": "python",
   "pygments_lexer": "ipython3",
   "version": "3.11.6"
  }
 },
 "nbformat": 4,
 "nbformat_minor": 2
}
