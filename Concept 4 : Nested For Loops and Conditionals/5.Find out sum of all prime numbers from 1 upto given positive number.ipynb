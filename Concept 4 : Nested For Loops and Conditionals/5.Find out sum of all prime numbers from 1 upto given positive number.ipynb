{
 "cells": [
  {
   "cell_type": "markdown",
   "metadata": {},
   "source": [
    "**Question5:**\n",
    "\n",
    "Given a positive integer, find out the sum of all prime numbers from 1 up to this number.\n",
    "\n",
    "**Logic:**\n",
    "\n",
    "First of all we will check if integer is greater than or equal to 2. If integer fulfil this condition then we will find out the prime num by ittrating with the for loop and add them in prime_sum. Then we will print it.\n",
    "\n",
    "**Inputs and Outputs:**\n",
    "\n",
    "    Input: 5\n",
    "    Output:10\n",
    "    Input: 9\n",
    "    Output:17"
   ]
  },
  {
   "cell_type": "code",
   "execution_count": 3,
   "metadata": {},
   "outputs": [
    {
     "name": "stdout",
     "output_type": "stream",
     "text": [
      "17\n"
     ]
    }
   ],
   "source": [
    "#Ist Method without function(def)\n",
    "integer=int(input(\"enter the integer\")) #taking integer as input from the user\n",
    "prime_sum=0 #assigned a variable named prime_sum whose value is initialised to 0\n",
    "if integer>=2:#checking if integer is greater than or equal to 2\n",
    "    for i in range(2,integer+1): #ittrating a for loop in the range 2 to integer+1(integer included )\n",
    "        factor=0 #assigned a variable named factor whose value is initialised to 0\n",
    "        for j in range(2,int(i**0.5)+1): #ittrating a for loop in the range 2 to integer part of underoot i+1\n",
    "            if i%j==0: #checking if remainder is 0 when i is divided by j\n",
    "                factor+=1 #factor get added by 1 as for loop ittrate\n",
    "        if factor==0: #checking if factor is 0\n",
    "            prime_sum+=i #prime_sum get added by i as for loop ittrate\n",
    "    print(\"sum of prime number upto number=\",prime_sum)\n",
    "else:\n",
    "    print(\"sum of prime number upto number=\",prime_sum)"
   ]
  },
  {
   "cell_type": "code",
   "execution_count": null,
   "metadata": {},
   "outputs": [],
   "source": [
    "#IInd Method With function(def)\n",
    "def prime_sum(integer): #defined a function named prime_sum \n",
    "    if isinstance(integer,int): #checking if integer is int\n",
    "        prime_sum=0 #assigned a variable named prime_sum whose value is initialised to 0\n",
    "        if integer>0:#checking if integer is greater than or equal to 2\n",
    "            for i in range(2,integer+1): #ittrating a for loop in the range 2 to integer+1(integer included )\n",
    "                factor=0 #assigned a variable named factor whose value is initialised to 0\n",
    "                for j in range(2,int(i**0.5)+1): #ittrating a for loop in the range 2 to integer part of underoot i+1\n",
    "                    if i%j==0: #checking if remainder is 0 when i is divided by j\n",
    "                        factor+=1 #factor get added by 1 as for loop ittrate\n",
    "                if factor==0: #checking if factor is 0\n",
    "                    prime_sum+=i #prime_sum get added by i as for loop ittrate\n",
    "            return prime_sum\n",
    "    else:\n",
    "        return None"
   ]
  }
 ],
 "metadata": {
  "kernelspec": {
   "display_name": "Python 3",
   "language": "python",
   "name": "python3"
  },
  "language_info": {
   "codemirror_mode": {
    "name": "ipython",
    "version": 3
   },
   "file_extension": ".py",
   "mimetype": "text/x-python",
   "name": "python",
   "nbconvert_exporter": "python",
   "pygments_lexer": "ipython3",
   "version": "3.11.6"
  }
 },
 "nbformat": 4,
 "nbformat_minor": 2
}
