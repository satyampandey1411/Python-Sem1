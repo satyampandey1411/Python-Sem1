{
 "cells": [
  {
   "cell_type": "markdown",
   "metadata": {},
   "source": [
    "**Question8:**\n",
    "\n",
    "Given a string input, find out if it contains a particular substring.\n",
    "\n",
    "**Logic:**\n",
    "\n",
    "By using for loop we will check if the substring is present in the given string.\n",
    "\n",
    "**Inputs and Outputs:**\n",
    "\n",
    "    Input: Pandey\n",
    "    Output: present"
   ]
  },
  {
   "cell_type": "code",
   "execution_count": null,
   "metadata": {},
   "outputs": [],
   "source": [
    "#Ist Method without function(def):\n",
    "givenstr='''I am Satyam Kumar Pandey. I have completed my intermediate from Jawahar\n",
    "Navodaya Vidyalaya Manikpur Chitrakoot''' #a string named givenstr is given \n",
    "substring=input(\"enter the substring\") #taking substring as input from the user\n",
    "if substring in givenstr: #checking if substring in givenstring\n",
    "  print(\"present\")\n",
    "else:\n",
    "  print(\"absent\")"
   ]
  },
  {
   "cell_type": "code",
   "execution_count": null,
   "metadata": {},
   "outputs": [],
   "source": [
    "#IInd Method With function(def)\n",
    "def is_substring_present(givenstr): #defined a function named is_substring_present\n",
    "    if isinstance(givenstr,str): #checking if input given in is_substring_present is string\n",
    "        substring=input('enter the substring') #taking substring as input from the user\n",
    "        if substring in givenstr: #checking if substring in givenstr\n",
    "            return True \n",
    "        else:\n",
    "            return False\n",
    "    else:\n",
    "        return None\n",
    "        \n"
   ]
  }
 ],
 "metadata": {
  "kernelspec": {
   "display_name": "Python 3",
   "language": "python",
   "name": "python3"
  },
  "language_info": {
   "codemirror_mode": {
    "name": "ipython",
    "version": 3
   },
   "file_extension": ".py",
   "mimetype": "text/x-python",
   "name": "python",
   "nbconvert_exporter": "python",
   "pygments_lexer": "ipython3",
   "version": "3.11.6"
  }
 },
 "nbformat": 4,
 "nbformat_minor": 2
}
