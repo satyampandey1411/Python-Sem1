{
 "cells": [
  {
   "cell_type": "markdown",
   "metadata": {},
   "source": [
    "**Question2:**\n",
    "\n",
    "Given two integers, find the larger one.\n",
    "\n",
    "**Logic:**\n",
    "\n",
    "We will compare the two given integers and the larger one will be larger.\n",
    "\n",
    "**Inputs and Outputs:**\n",
    "\n",
    "    Input: int1=3 and int2=5\n",
    "    Output: int2 is the larger integer\n",
    "    Input: int1=12 and int2=6\n",
    "    Output: int1 is the larger integer\n",
    "    Input : int1=4 and int2=4\n",
    "    Output : both integers are equal\n",
    "\n",
    "\n"
   ]
  },
  {
   "cell_type": "code",
   "execution_count": null,
   "metadata": {},
   "outputs": [],
   "source": [
    "#Ist Method without def\n",
    "int1=int(input(\"enter the first integer\")) #taking int1 as input from the user\n",
    "int2=int(input(\"enter the second integer\"))  #taking int2 as input from the user\n",
    "if int1==int2:     #checking if int1 is equal to int2\n",
    "    print(\"both integers are equal\")    \n",
    "elif int1>int2:   #checking if int1 is larger than int2\n",
    "    print(\"int1 is the larger integer\")\n",
    "else:\n",
    "    print(\"int2 is the larger integer\")"
   ]
  },
  {
   "cell_type": "code",
   "execution_count": null,
   "metadata": {},
   "outputs": [],
   "source": [
    "#IInd Method with def\n",
    "def func_larger_int(int1,int2): #defining a function named as func_larger_int in which there are 2 arguments int1 and int2\n",
    "    if isinstance(int1,int) and isinstance(int2,int): #checking if the input (int1,int2) given in func_larger_int is integer\n",
    "        if int1==int2:     #checking if int1 is equal to int2\n",
    "            return \"both integers are equal\"   \n",
    "        elif int1>int2:    #checking if int1 is larger than int2\n",
    "            return \"int1 is the larger integer\"\n",
    "        else:\n",
    "            return \"int2 is the larger integer\"\n",
    "    else:\n",
    "        return \"you have not intered both int1 and int2 as integer input\""
   ]
  }
 ],
 "metadata": {
  "kernelspec": {
   "display_name": "Python 3",
   "language": "python",
   "name": "python3"
  },
  "language_info": {
   "codemirror_mode": {
    "name": "ipython",
    "version": 3
   },
   "file_extension": ".py",
   "mimetype": "text/x-python",
   "name": "python",
   "nbconvert_exporter": "python",
   "pygments_lexer": "ipython3",
   "version": "3.11.6"
  }
 },
 "nbformat": 4,
 "nbformat_minor": 2
}
