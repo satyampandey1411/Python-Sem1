{
 "cells": [
  {
   "cell_type": "markdown",
   "metadata": {},
   "source": [
    "**Question3:** \n",
    "\n",
    "Given a temperature in Celsius, convert it to Fahrenheit using the formula F = (C * 1.8) + 32. If the temperature is above 90°F, print “It’s hot outside!” otherwise, print “The temperature is pleasant”.\n",
    "\n",
    "**Logic:**\n",
    "\n",
    "First we will convert the temperature in Celcius into Fahrenheit by using the formula F = (C * 1.8) + 32 and then compare the temperature in fahrenheit with 90°F.\n",
    "\n",
    "**Inputs and Outputs:**\n",
    "\n",
    "    Input: 18\n",
    "    Output:The temperature is pleasant\n",
    "    Input: 50\n",
    "    Output:It's hot outside!"
   ]
  },
  {
   "cell_type": "code",
   "execution_count": null,
   "metadata": {},
   "outputs": [],
   "source": [
    "#Ist Method Without function(def)\n",
    "temp_in_celcius=float(input(\"enter the temperature in celcius\")) #taking temperature in celcius as input from the user\n",
    "temp_in_fahrenheit=(temp_in_celcius*1.8)+32 #converting temperature in celcius into fahrenheit by using the formula  F=(C*1.8)+32 where F and C stand for fahrenheit and celcius respectively\n",
    "if temp_in_fahrenheit>90: #checking if temperature in fahrenheit is greater than 90°F.\n",
    "    print(\"It's hot outside!\")\n",
    "else:\n",
    "    print(\"The temperature is pleasant\")"
   ]
  },
  {
   "cell_type": "code",
   "execution_count": null,
   "metadata": {},
   "outputs": [],
   "source": [
    "#IInd Method With function(def)\n",
    "def func_temp(temp_in_celcius): #defining a function named as func_temp \n",
    "    temp_in_fahrenheit=(temp_in_celcius*1.8)+32 #converting temperature in celcius into fahrenheit by using the formula F=(C*1.8)+32 where F and C stand for fahrenheit and celcius respectively\n",
    "    if temp_in_fahrenheit>90: #checking if temperature in fahrenheit is greater than 90°F.\n",
    "        return \"It's hot outside!\"\n",
    "    else:\n",
    "        return \"The temperature is pleasant\"\n"
   ]
  }
 ],
 "metadata": {
  "kernelspec": {
   "display_name": "Python 3",
   "language": "python",
   "name": "python3"
  },
  "language_info": {
   "codemirror_mode": {
    "name": "ipython",
    "version": 3
   },
   "file_extension": ".py",
   "mimetype": "text/x-python",
   "name": "python",
   "nbconvert_exporter": "python",
   "pygments_lexer": "ipython3",
   "version": "3.11.6"
  }
 },
 "nbformat": 4,
 "nbformat_minor": 2
}
