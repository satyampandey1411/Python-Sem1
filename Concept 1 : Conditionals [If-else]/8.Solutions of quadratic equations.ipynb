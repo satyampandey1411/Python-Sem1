{
 "cells": [
  {
   "cell_type": "markdown",
   "metadata": {},
   "source": [
    "**Question 8**\n",
    "\n",
    "Given a quadratic equation with coefficients a, b and c, find the two solutions (may be real or complex). You should not take the square root of a negative number in your code.\n",
    "\n",
    "**Logic:**\n",
    "\n",
    "We will check first the discriminant of the quadratic equation which is D=b**2-4*a*c and three situation arise by discriminant (i) if D=0 means roots are real and equal (ii) if D>0 means roots are real and distinct (iii) if D<0 means roots are imaginanry and distinct. We will calculate the the two roots by the formula sol1=((-1*b)+D^0.5)/(2*a) and sol2=((-1*b)-D^0.5)/(2*a)and while calculting roots for the imaginary part we use such formula re=(-1*b)/(2*a) and img=(-(1*D)^1/2)/(2*a) sol1=re+img and sol2=re-img.\n",
    "\n",
    "**Inputs and Outputs**\n",
    "\n",
    "    Input: a=1, b=-5, c=6\n",
    "    Output:Both solutions are real and distinct \n",
    "            sol1= 3.0\n",
    "            sol2= 2.0\n",
    "    Input: a=1, b=-10, c=25\n",
    "    Output:Both solutions are real and equal \n",
    "            sol1= 5.0\n",
    "            sol2= 5.0\n",
    "    Input: a=1, b=6, c=23\n",
    "    Output:Both solutions are imaginary and distinct \n",
    "            sol1= -3.0 + 14.0 j \n",
    "            sol2= -3.0 - 14.0 j"
   ]
  },
  {
   "cell_type": "code",
   "execution_count": null,
   "metadata": {},
   "outputs": [],
   "source": [
    "a=int(input(\"enter the coeff. of x**2\")) #asking the coeff. of x^2 from the user\n",
    "b=int(input(\"enter the coeff. of x\")) #asking the coeff. of x from the user\n",
    "c=int(input(\"enter the constant term\")) #asking the constant term from the user \n",
    "print(\"The quadratic equation is:\",a,\"x**2+\",b,\"x+\",c) \n",
    "D=(b**2-4*a*c) #Discriminant = (b**2-4*a*c) \n",
    "if D>=0: #checking if D is greater than or equal to 0\n",
    "    sol1=((-1*b)+D**0.5)/(2*a) #solution1=-b+underoot(D) divide by 2 times a\n",
    "    sol2=((-1*b)-D**0.5)/(2*a) #solution1=-b-underoot(D) divide by 2 times a\n",
    "    if D>0: #checking  if D is greater than 0\n",
    "        print(\"Both solutions are real and distinct\",\"\\n\",\"sol1=\",sol1,\"\\n\",\"sol2=\",sol2)\n",
    "    else:\n",
    "        print(\"Both solutions are real and equal\",\"\\n\",\"sol1=\",sol1,\"\\n\",\"sol2=\",sol2)\n",
    "else:\n",
    "    re=(-1*b)/(2*a) #real part is equl to -b divide by 2 times a\n",
    "    img=(-(1*D)**1/2)/(2*a) #imaginary part is equal to -1 times underroot(D) divide by 2 times a\n",
    "    print(\"Both solutions are imaginary and distinct\",\"\\n\",\"sol1=\",re,\"+\",img,\"j\",\"\\n\",\"sol2=\",re,\"-\",img,\"j\")"
   ]
  }
 ],
 "metadata": {
  "kernelspec": {
   "display_name": "Python 3",
   "language": "python",
   "name": "python3"
  },
  "language_info": {
   "codemirror_mode": {
    "name": "ipython",
    "version": 3
   },
   "file_extension": ".py",
   "mimetype": "text/x-python",
   "name": "python",
   "nbconvert_exporter": "python",
   "pygments_lexer": "ipython3",
   "version": "3.11.6"
  }
 },
 "nbformat": 4,
 "nbformat_minor": 2
}
