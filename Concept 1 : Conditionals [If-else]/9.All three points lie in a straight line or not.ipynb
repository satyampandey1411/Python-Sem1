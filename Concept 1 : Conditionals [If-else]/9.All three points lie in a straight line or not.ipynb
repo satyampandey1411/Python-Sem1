{
 "cells": [
  {
   "cell_type": "markdown",
   "metadata": {},
   "source": [
    "**Question 9:**\n",
    "\n",
    "Given three points, find out whether they lie on the same straight line or not.\n",
    "\n",
    "**Logic:**\n",
    "\n",
    "We will check if the slope of three points is same or not. If slope is same, means they all are lying in the same straight line otherwise they all are not lying in the same straight line. \n",
    "\n",
    "We will check if the area of the triangle formed by the three poins is zero or not.If area is zero means they all are lying in the same straight line otherwise they all are not lying in the same straight line\n",
    "\n",
    "**Inputs and Outputs**\n",
    "\n",
    "    Input: x1=5.3, y1=4, x2=5.3, y2=3.2, x3=5.3, y3=5.2\n",
    "    Output: all the three points are lying in the straight line\n",
    "    Input: x1=3, y1=2, x2=5, y2=8, x3=3, y3=8.2\n",
    "    Output: all the three points are not lying in straight line\n",
    "    Input: x1=5, y1=9, x2=2, y2=6, x3=4, y3=8\n",
    "    Output: all the three points are lying in the straight line\n",
    "    Input: x1=5, y1=9, x2=2, y2=1, x3=5, y3=8\n",
    "    Output: all the three points are not lying in straight line   "
   ]
  },
  {
   "cell_type": "code",
   "execution_count": null,
   "metadata": {},
   "outputs": [],
   "source": [
    "#Ist Method without function(def)\n",
    "x1=float(input(\"enter the x coordinate of first point\")) #asking x coordinate of first point\n",
    "y1=float(input(\"enter the y coordinate of first point\")) #asking y coordinate of first point\n",
    "x2=float(input(\"enter the x coordinate of second point\")) #asking x coordinate of second point\n",
    "y2=float(input(\"enter the y coordinate of second point\")) #asking y coordinate of second point\n",
    "x3=float(input(\"enter the x coordinate of third point\")) #asking x coordinate of third point\n",
    "y3=float(input(\"enter the y coordinate of third point\")) #asking y coordinate of third point\n",
    "print(\"First pont is:\",(x1,y1),'\\n',\"Second point is:\",(x2,y2),'\\n',\"Third point is:\",(x3,y3))\n",
    "if x1==x2==x3: #if x1 equal to x2 equal to x3\n",
    "    print(\"all the three points are lying in the straight line\")\n",
    "elif x1==x2!=x3 or x1==x3!=x2 or x2==x3!=x1: #if any two point of three equal but one not equal\n",
    "    print(\"all the three points are not lying in straight line\")\n",
    "elif (y3-y2)/(x3-x2)==(y2-y1)/(x2-x1): #checking if slope of second and third point equal to slope of second and first point\n",
    "    print(\"all the three points are lying in the straight line\")\n",
    "else:\n",
    "    print(\"all the three points are not lying in straight line\")"
   ]
  },
  {
   "cell_type": "code",
   "execution_count": null,
   "metadata": {},
   "outputs": [],
   "source": [
    "#IInd Method with function(def)\n",
    "def same_sl(x1,y1,x2,y2,x3,y3): #defining a function named same_sl in which there are 6 arguments x1,y1,x2,y2,x3,y3\n",
    "    if x1==x2==x3: #if x1 equal to x2 equal to x3\n",
    "        return True #True means they all are lying in the same straight line\n",
    "    elif x1==x2!=x3 or x1==x3!=x2 or x2==x3!=x1: #if any two point of three equal but one not equal\n",
    "        return False #False means they all are not lying in the same straight line\n",
    "    elif (y3-y2)/(x3-x2)==(y2-y1)/(x2-x1): #checking if slope of second and third point equal to slope of second and first point\n",
    "        return True #True means they all are lying in the same straight line\n",
    "    else:\n",
    "        return False #False means they all are not lying in the same straight line"
   ]
  },
  {
   "cell_type": "code",
   "execution_count": null,
   "metadata": {},
   "outputs": [],
   "source": [
    "#IIIrd Method without function(def)\n",
    "x1=float(input(\"enter the x coordinate of first point\")) #asking x coordinate of first point\n",
    "y1=float(input(\"enter the y coordinate of first point\")) #asking y coordinate of first point\n",
    "x2=float(input(\"enter the x coordinate of second point\")) #asking x coordinate of second point\n",
    "y2=float(input(\"enter the y coordinate of second point\")) #asking y coordinate of second point\n",
    "x3=float(input(\"enter the x coordinate of third point\")) #asking x coordinate of third point\n",
    "y3=float(input(\"enter the y coordinate of third point\")) #asking y coordinate of third point\n",
    "print(\"First pont is:\",(x1,y1),'\\n',\"Second point is:\",(x2,y2),'\\n',\"Third point is:\",(x3,y3))\n",
    "if (1/2)*(x1*(y2-y3)+x2*(y3-y1)+x3*(y1-y2))==0: #checking if (1/2)*(x1*(y2-y3)+x2*(y3-y1)+x3*(y1-y2)) equal to zero\n",
    "    print(\"all the three points are not lying in straight line\")\n",
    "else:\n",
    "    print(\"all the three points are lying in the straight line\")"
   ]
  },
  {
   "cell_type": "code",
   "execution_count": null,
   "metadata": {},
   "outputs": [],
   "source": [
    "#IVth Method with function(def)\n",
    "def same_sl(x1,y1,x2,y2,x3,y3): #defining a function named same_sl in which there are 6 arguments x1,y1,x2,y2,x3,y3\n",
    "    if (1/2)*(x1*(y2-y3)+x2*(y3-y1)+x3*(y1-y2))==0: #checking if (1/2)*(x1*(y2-y3)+x2*(y3-y1)+x3*(y1-y2)) equal to zero\n",
    "        return True #True means they all are lying in the same straight line\n",
    "    else:\n",
    "        return False #False means they all are not lying in the same straight line"
   ]
  }
 ],
 "metadata": {
  "kernelspec": {
   "display_name": "Python 3",
   "language": "python",
   "name": "python3"
  },
  "language_info": {
   "codemirror_mode": {
    "name": "ipython",
    "version": 3
   },
   "file_extension": ".py",
   "mimetype": "text/x-python",
   "name": "python",
   "nbconvert_exporter": "python",
   "pygments_lexer": "ipython3",
   "version": "3.11.6"
  }
 },
 "nbformat": 4,
 "nbformat_minor": 2
}
