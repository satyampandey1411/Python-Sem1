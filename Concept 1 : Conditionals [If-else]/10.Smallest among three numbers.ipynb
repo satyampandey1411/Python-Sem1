{
 "cells": [
  {
   "cell_type": "markdown",
   "metadata": {},
   "source": [
    "**Question 10:**\n",
    "\n",
    "Given three integers, find the smallest one.\n",
    "\n",
    "**Logic:**\n",
    "We will compare the first two number and smaller of these two will be compared by the remaining and the smaller among them will be the smallest number.\n",
    "\n",
    "**Inputs and Outputs**\n",
    "\n",
    "    Input: a=3, b=5, c=7\n",
    "    Output: a is smallest\n",
    "    Input: a=3, b=2, c=7\n",
    "    Output: b is smallest\n",
    "    Input: a=7, b=7, c=5\n",
    "    Output: c is smallest"
   ]
  },
  {
   "cell_type": "code",
   "execution_count": null,
   "metadata": {},
   "outputs": [],
   "source": [
    "#Ist Method Without 'AND' and function(def)\n",
    "a = int(input(\"enter the number a\")) #taking value of a from the user\n",
    "b = int(input(\"enter the number b\")) #taking value of b from the user\n",
    "c = int(input(\"enter the number c\")) #taking value of c from the user\n",
    "if a<=b: #checking if a is less than or equal to b\n",
    "    if a<=c: #checking if a is less than or equal to c\n",
    "        print(\"a is smallest\")\n",
    "    else:\n",
    "        print(\"c is smallest\")\n",
    "else:\n",
    "    if b<=c: #checking if b is less than or equal to c\n",
    "        print(\"b is smallest\")\n",
    "    else:\n",
    "        print(\"c is the smallest\")"
   ]
  },
  {
   "cell_type": "code",
   "execution_count": null,
   "metadata": {},
   "outputs": [],
   "source": [
    "#IInd Method with 'AND' without function(def)\n",
    "a = int(input(\"enter the number a\")) #taking value of a from the user\n",
    "b = int(input(\"enter the number b\")) #taking value of b from the user\n",
    "c = int(input(\"enter the number c\")) #taking value of c from the user\n",
    "if a<=b and a<=c: #checking if a is less than or equal to b and a is less than or equal to c\n",
    "    print(\"a is smallest\")\n",
    "elif b<=c: #checking if b is less than or equal to c\n",
    "    print(\"b is smallest\")\n",
    "else:\n",
    "    print(\"c is smallest\")"
   ]
  },
  {
   "cell_type": "code",
   "execution_count": null,
   "metadata": {},
   "outputs": [],
   "source": [
    "#IIIrd Method with function(def)\n",
    "def smallest_int(a,b,c): ##defining a function named smallest_int in which there are three arguments a,b,c\n",
    "    if a<=b and a<=c: #checking if a is less than or equal to b and a is less than or equal to c\n",
    "        return \"a is smallest\"\n",
    "    elif b<=c: #checking if b is less than or equal to c\n",
    "        return \"b is smallest\"\n",
    "    else:\n",
    "        return \"c is smallest\""
   ]
  },
  {
   "cell_type": "code",
   "execution_count": null,
   "metadata": {},
   "outputs": [],
   "source": [
    "#IVth Method with function(def) and 'AND'\n",
    "def smallest_int(a,b,c): #defining a function named smallest_int in which there are three arguments a,b,c\n",
    "    if a<=b: #checking if a is less than or equal to b\n",
    "        if a<=c: #checking if a is less than or equal to c\n",
    "            return \"a is smallest\"\n",
    "        else:\n",
    "            return \"c is smallest\"\n",
    "    else:\n",
    "        if b<=c: #checking if b is less than or equal to c\n",
    "            return \"b is smallest\"\n",
    "        else:\n",
    "            return \"c is the smallest\""
   ]
  }
 ],
 "metadata": {
  "language_info": {
   "name": "python"
  }
 },
 "nbformat": 4,
 "nbformat_minor": 2
}
