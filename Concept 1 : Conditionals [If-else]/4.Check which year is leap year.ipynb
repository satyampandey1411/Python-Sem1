{
 "cells": [
  {
   "cell_type": "markdown",
   "metadata": {},
   "source": [
    "**Question4:**\n",
    "\n",
    "Given a year, check if it is a leap year or not. A leap year is divisible by 4, except for years that are divisible by 100. However, years that are divisible by 400 are also leap years.\n",
    "\n",
    "**Logic:**\n",
    "\n",
    "We will first divide the year by 4 and 100 and if it is divisible by 4 but not divisible by 100 then year is a leap year, if first codition not satisfied then we will divide the year by 400 and if it is divisible by 400 then it is a leap year. If both first and second condition not satisfied then year is not a leap year. \n",
    "\n",
    "**Inputs and Outputs**\n",
    "\n",
    "    Input: 1628\n",
    "    Output: entered year is a leap year\n",
    "    Input: 1200\n",
    "    Output: entered year is a leap year\n",
    "    Input: 700\n",
    "    Output: entered year is not a leap year\n",
    "\n"
   ]
  },
  {
   "cell_type": "code",
   "execution_count": null,
   "metadata": {},
   "outputs": [],
   "source": [
    "#Ist Method without function(def)\n",
    "year=int(input(\"enter the year\")) #taking year as input from the user \n",
    "if year%4==0 and year%100!=0:  #checking if year is divisible by 4 and not divisible by 100\n",
    "    print(\"entered year is a leap year\")\n",
    "elif year%400==0:  #checking if year is divisible by 400 \n",
    "   print(\"entered year is a leap year\")\n",
    "else:\n",
    "    print(\"entered year is not a leap year\") "
   ]
  },
  {
   "cell_type": "code",
   "execution_count": null,
   "metadata": {},
   "outputs": [],
   "source": [
    "#IInd Method with function(def)\n",
    "def func_year(year): #defining a function named as func_year \n",
    "    if isinstance(year,int): #checking if the input given in func_year is int \n",
    "        if year%4==0 and year%100!=0:  #checking if year is divisible by 4 and not divisible by 100\n",
    "            return \"entered year is a leap year\"\n",
    "        elif year%400==0:  #checking if year is divisible by 400 \n",
    "            return \"entered year is a leap year\"\n",
    "        else:\n",
    "            return \"entered year is not a leap year\"\n",
    "    else:\n",
    "        return \"you have not entered a integer input\""
   ]
  }
 ],
 "metadata": {
  "kernelspec": {
   "display_name": "Python 3",
   "language": "python",
   "name": "python3"
  },
  "language_info": {
   "codemirror_mode": {
    "name": "ipython",
    "version": 3
   },
   "file_extension": ".py",
   "mimetype": "text/x-python",
   "name": "python",
   "nbconvert_exporter": "python",
   "pygments_lexer": "ipython3",
   "version": "3.11.6"
  }
 },
 "nbformat": 4,
 "nbformat_minor": 2
}
