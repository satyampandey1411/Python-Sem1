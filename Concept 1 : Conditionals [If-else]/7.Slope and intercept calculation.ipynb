{
 "cells": [
  {
   "cell_type": "markdown",
   "metadata": {},
   "source": [
    "**Question 7:**\n",
    "\n",
    "Given two points (x1, y1) and (x2, y2), find the slope and intercept of the line joining these two points (the line may be perfectly horizontal or vertical).\n",
    "\n",
    "**Logic:**\n",
    "\n",
    "First of all we will check whether x2-x1 is 0 or not. If x2-x1 is equal to zero we say that slope and intercept is not defined because the line joining the two points become parallel to y axis. If x2-x1 is non zero then we will calculate slope and intercept by the formula Slope=(y2 - y1)/(x2 - x1) and  Intercept=y1-(slope * x1)\n",
    "\n",
    "**Inputs and Outputs**\n",
    "\n",
    "    Input: x1=3.2, y1=8, x2=3.2, y2=6.3\n",
    "    Output: slope and intercept are not defined\n",
    "    Input: x1=4, y1=6.3, x2=3.2, y2=6.3\n",
    "    Output: slope is: -0.0 and intercept is: 6.3\n",
    "    Input: x1=5.2, y1=8, x2=3.2, y2=6\n",
    "    Output: slope is: 1.0 and intercept is: 2.8\n"
   ]
  },
  {
   "cell_type": "code",
   "execution_count": null,
   "metadata": {},
   "outputs": [],
   "source": [
    "#Ist Method Without function(def)\n",
    "x1=float(input(\"enter the x coordinate of first point\")) #taking the x coordinate of first point from the user\n",
    "y1=float(input(\"enter the y coordinate of first point\")) #taking the y coordinate of first point from the user\n",
    "x2=float(input(\"enter the x coordinate of second point\")) #taking the x coordinate of second point from the user\n",
    "y2=float(input(\"enter the y coordinate of second point\")) #taking the y coordinate of second point from the user\n",
    "if x2-x1==0: #checking if x2-x1 is 0\n",
    "    print(\"slope and intercept are not defined\")\n",
    "else:\n",
    "    slope = (y2 - y1) / (x2 - x1) #calculating slope by using the formula slope = (y2 - y1) / (x2 - x1)\n",
    "    intercept = y1 - (slope * x1) #calculating intercept by using the formula intercept = y1 - (slope * x1)\n",
    "    print(\"slope is:\",slope,\"and intercept is:\",intercept)"
   ]
  },
  {
   "cell_type": "code",
   "execution_count": null,
   "metadata": {},
   "outputs": [],
   "source": [
    "#IIIrd method with functin(def)\n",
    "def slope_intercept(x1,y1,x2,y2): #defining a function named as slope_intercept in which there are 4 arguments as x1,y1,x2,y2\n",
    "    if x2-x1==0: #checking if x2-x1 is 0\n",
    "        return  0,0,False #output is 0,0,false which means the output given 0,0 is false (not defined)\n",
    "    else:\n",
    "        slope = (y2 - y1) / (x2 - x1) #calculating slope by using the formula slope = (y2 - y1) / (x2 - x1)\n",
    "        intercept = y1 - (slope * x1) #calculating intercept by using the formula intercept = y1 - (slope * x1)\n",
    "    return slope,intercept,True #output is slope,intercept,true which means output is correct    \n"
   ]
  }
 ],
 "metadata": {
  "kernelspec": {
   "display_name": "Python 3",
   "language": "python",
   "name": "python3"
  },
  "language_info": {
   "codemirror_mode": {
    "name": "ipython",
    "version": 3
   },
   "file_extension": ".py",
   "mimetype": "text/x-python",
   "name": "python",
   "nbconvert_exporter": "python",
   "pygments_lexer": "ipython3",
   "version": "3.11.6"
  }
 },
 "nbformat": 4,
 "nbformat_minor": 2
}
