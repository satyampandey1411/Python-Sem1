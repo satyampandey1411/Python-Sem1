{
 "cells": [
  {
   "cell_type": "markdown",
   "metadata": {},
   "source": [
    "**Question 5:**\n",
    "\n",
    "Given two numbers, a and b, find the value of a/b (b may be zero).\n",
    "\n",
    "**Logic**\n",
    "\n",
    "We will first check that whether b is zero or not and if b is zero then a/b will not be defined otherwise a/b will be defined and we will calculate a/b.\n",
    "\n",
    "**Inputs and Outputs**\n",
    "\n",
    "    Input: a=3 and b=5\n",
    "    Output: a/b = 0.6\n",
    "    Input: a=6 and b=0\n",
    "    Output: a/b is not defined\n"
   ]
  },
  {
   "cell_type": "code",
   "execution_count": null,
   "metadata": {},
   "outputs": [],
   "source": [
    "#Ist Method Without function(def) \n",
    "a=float(input(\"enter the value of a\")) #taking value of a from the user \n",
    "b=float(input(\"enter the value of b\")) #taking value of b from the user \n",
    "if b==0: #checking if b is 0\n",
    "    print(\"a/b is not defined\")\n",
    "else:\n",
    "    print(\"a/b =\",a/b)"
   ]
  },
  {
   "cell_type": "code",
   "execution_count": null,
   "metadata": {},
   "outputs": [],
   "source": [
    "#IInd Method With def\n",
    "def func_ratio(a,b): #defining a function named as func_ratio in which there are 2 arguments as num1 and num2\n",
    "    if b==0: #checking if b is 0\n",
    "        return 0,False #output is 0 with false means the output is false\n",
    "    else:\n",
    "        return a/b,True #output is a/b with true means output is true\n",
    "        "
   ]
  }
 ],
 "metadata": {
  "kernelspec": {
   "display_name": "Python 3",
   "language": "python",
   "name": "python3"
  },
  "language_info": {
   "codemirror_mode": {
    "name": "ipython",
    "version": 3
   },
   "file_extension": ".py",
   "mimetype": "text/x-python",
   "name": "python",
   "nbconvert_exporter": "python",
   "pygments_lexer": "ipython3",
   "version": "3.11.6"
  }
 },
 "nbformat": 4,
 "nbformat_minor": 2
}
