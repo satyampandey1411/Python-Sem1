{
 "cells": [
  {
   "cell_type": "markdown",
   "metadata": {},
   "source": [
    "**Question 6:**\n",
    "\n",
    "Given a point (x1, y1), find the quadrant in which this point lies.\n",
    "\n",
    "**Logic:**\n",
    "\n",
    "    We will check x and y coordinate of point with these 9 conditions\n",
    "    (i) x1 and y1 both are greater than 0 then point is lying in Ist quadrant\n",
    "    (ii) x1 is lesser than 0 but y1 is greater than 0 then point is lying in IInd quadrant\n",
    "    (iii) x1 and y1 both are lesser than 0 then point is lying in IIIrd quadrant\n",
    "    (iv) x1 is greater than 0 but y1 is lesser than 0 then point is lying in IVth quadrant\n",
    "    (v) x1 is 0 and y1 is greater than 0 then point is lying in Positive Y axis\n",
    "    (vi) x1 is 0 and y1 is lesser than 0 then point is lying in Negative Y axis\n",
    "    (vii) x1 is greater than 0 and y1 is 0 then point is lying in Positive X axis\n",
    "    (viii) x1 is lesser than 0 and y1 is 0 then point is lying in Negative X axis\n",
    "    (ix) x1 is 0 and y is 0 then point is lying in the origin\n",
    "\n",
    "**Inputs and Outputs**\n",
    "\n",
    "    Input: x1=5 and y1=3\n",
    "    Output: given point lies in Ist quadrant\n",
    "    Input: x1=-5 and y1=2\n",
    "    Output:given point lies in IInd quadrant\n",
    "    Input: x1=-2 and y1=-1\n",
    "    Output: given point lies in IIIrd quadrant\n",
    "    Input: x1=7 and y1=-5\n",
    "    Output: given point lies in IVth quadrant\n",
    "    Input: x1=0 and y1=3\n",
    "    Output: given point lies in positive y axis\n",
    "    Input: x1=0 and y1=-8\n",
    "    Output: given point lies in negative y axis\n",
    "    Input: x1=6 and y1=0\n",
    "    Output: given point lies in positive x axis\n",
    "    Input: x1=-12 and y1=0\n",
    "    Output: given point lies in negative x axis\n",
    "    Input: x1=0 and y1=0\n",
    "    Output: given point lies in origin \n",
    "\n",
    "    "
   ]
  },
  {
   "cell_type": "code",
   "execution_count": null,
   "metadata": {},
   "outputs": [],
   "source": [
    "#Ist Method without function(def)\n",
    "x1=float(input(\"enter the x coordinate of given point\")) #taking x1 as input from the user \n",
    "y1=float(input(\"enter the y coordinate of given point\")) #taking y1 as input from the user \n",
    "print(\"X coordinate of given point is:\", x1)\n",
    "print(\"Y coordinate of given point is:\", y1)\n",
    "if x1>0 and y1>0: #checking if x1 and y1 both greater than 0\n",
    "    print(\"given point lies in Ist quadrant\")\n",
    "elif x1<0 and y1>0: #checking if x1 lesser than 0 and y1 greater than 0\n",
    "    print(\"given point lies in IInd quadrant\")\n",
    "elif x1<0 and y1<0: #checking if x1 and y1 both lesser than 0\n",
    "    print(\"given point lies in IIIrd quadrant\")\n",
    "elif x1>0 and y1<0: #checking if x1 greater than 0 and y1 lesser than 0\n",
    "    print(\"given point lies in IVth quadrant\")\n",
    "elif x1>0 and y1==0: #checking if x1 greater than 0 and y1 equal to 0\n",
    "    print(\"given point lies in positive x axis\")\n",
    "elif x1<0 and y1==0: #checking if x1 lesser than 0 and y1 equal to 0\n",
    "    print(\"given point lies in negative x axis\")\n",
    "elif y1>0 and x1==0: #checking if y1 greater than 0 and x1 equal to 0\n",
    "    print(\"given point lies in positive y axis\")\n",
    "elif y1<0 and x1==0: #checking if y1 lesser than 0 and x1 equal to 0\n",
    "    print(\"given point lies in negative y axis\")\n",
    "else:\n",
    "    print(\"given point lies in origin\")"
   ]
  },
  {
   "cell_type": "code",
   "execution_count": null,
   "metadata": {},
   "outputs": [],
   "source": [
    "#IInd Method with function(def)\n",
    "def func_point_xy_plane(x1,y1):#defining a function named as func_point_xy_plane in which there are 2 arguments as x1,y1\n",
    "    if x1>0 and y1>0: #checking if x1 and y1 both greater than 0\n",
    "        return \"given point lies in Ist quadrant\"\n",
    "    elif x1<0 and y1>0: #checking if x1 lesser than 0 and y1 greater than 0\n",
    "        return \"given point lies in IInd quadrant\"\n",
    "    elif x1<0 and y1<0: #checking if x1 and y1 both lesser than 0\n",
    "        return \"given point lies in IIIrd quadrant\"\n",
    "    elif x1>0 and y1<0: #checking if x1 greater than 0 and y1 lesser than 0\n",
    "        return \"given point lies in IVth quadrant\"\n",
    "    elif x1>0 and y1==0: #checking if x1 greater than 0 and y1 equal to 0\n",
    "        return \"given point lies in positive x axis\"\n",
    "    elif x1<0 and y1==0: #checking if x1 lesser than 0 and y1 equal to 0\n",
    "        return \"given point lies in negative x axis\"\n",
    "    elif y1>0 and x1==0: #checking if y1 greater than 0 and x1 equal to 0\n",
    "        return \"given point lies in positive y axis\"\n",
    "    elif y1<0 and x1==0: #checking if y1 lesser than 0 and x1 equal to 0\n",
    "        return \"given point lies in negative y axis\"\n",
    "    else:\n",
    "        return \"given point lies in origin\""
   ]
  }
 ],
 "metadata": {
  "kernelspec": {
   "display_name": "Python 3",
   "language": "python",
   "name": "python3"
  },
  "language_info": {
   "codemirror_mode": {
    "name": "ipython",
    "version": 3
   },
   "file_extension": ".py",
   "mimetype": "text/x-python",
   "name": "python",
   "nbconvert_exporter": "python",
   "pygments_lexer": "ipython3",
   "version": "3.11.6"
  }
 },
 "nbformat": 4,
 "nbformat_minor": 2
}
