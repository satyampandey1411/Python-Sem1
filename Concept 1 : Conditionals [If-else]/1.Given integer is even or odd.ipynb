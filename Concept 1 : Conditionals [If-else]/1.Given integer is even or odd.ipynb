{
 "cells": [
  {
   "cell_type": "markdown",
   "metadata": {},
   "source": [
    "**Question1:**\n",
    "\n",
    "Given an integer, check if it is even or odd.\n",
    "\n",
    "**Logic:**\n",
    "\n",
    "We will check if a integer is divisible by 2 then the integer is a even integer otherwise odd integer.\n",
    "\n",
    "**Inputs and Outputs:**\n",
    "\n",
    "    Input: 3\n",
    "    Output: entered integer is odd\n",
    "    Input: 2\n",
    "    Output: entered integer is even\n"
   ]
  },
  {
   "cell_type": "code",
   "execution_count": null,
   "metadata": {},
   "outputs": [],
   "source": [
    "#Ist Method without function(def)\n",
    "integer=int(input(\"enter the integer\"))  #taking input in the form of integer from the user\n",
    "if integer%2==0:   #dividing the integer by 2 and checking if remainder is 0\n",
    "    print(\"entered integer is even\")\n",
    "else:\n",
    "    print(\"entered integer is odd\")"
   ]
  },
  {
   "cell_type": "code",
   "execution_count": 1,
   "metadata": {},
   "outputs": [],
   "source": [
    "#IInd Method with function(def)\n",
    "def func_odd_even(integer): #defining a function named as func_odd_even\n",
    "    if isinstance(integer,int): #checking if the input given in func_odd__even is integer\n",
    "        if integer%2==0:   #dividing the integer by 2 and checking if remainder is 0\n",
    "            return \"entered integer is even\"\n",
    "        else:\n",
    "            return \"entered integer is odd\"\n",
    "    else:\n",
    "        return \"you have not entered a integer input\"\n",
    "    "
   ]
  }
 ],
 "metadata": {
  "kernelspec": {
   "display_name": "Python 3",
   "language": "python",
   "name": "python3"
  },
  "language_info": {
   "codemirror_mode": {
    "name": "ipython",
    "version": 3
   },
   "file_extension": ".py",
   "mimetype": "text/x-python",
   "name": "python",
   "nbconvert_exporter": "python",
   "pygments_lexer": "ipython3",
   "version": "3.11.5"
  }
 },
 "nbformat": 4,
 "nbformat_minor": 2
}
